{
  "cells": [
    {
      "cell_type": "markdown",
      "metadata": {
        "id": "ElNaMbLnRdHR"
      },
      "source": [
        "# Sentence Reconstruction"
      ]
    },
    {
      "cell_type": "markdown",
      "metadata": {
        "id": "oXr4iGUGRms8"
      },
      "source": [
        "The purpose of this project is to take in input a sequence of words corresponding to a random permutation of a given english sentence, and reconstruct the original sentence.\n",
        "\n",
        "The otuput can be either produced in a single shot, or through an iterative (autoregressive) loop generating a single token at a time.\n",
        "\n",
        "\n",
        "CONSTRAINTS:\n",
        "* No pretrained model can be used.\n",
        "* The neural network models should have less the 20M parameters.\n",
        "* No postprocessing should be done (e.g. no beamsearch)\n",
        "* You cannot use additional training data.\n",
        "\n",
        "\n",
        "BONUS PARAMETERS:\n",
        "\n",
        "A bonus of 0-2 points will be attributed to incentivate the adoption of models with a low number of parameters."
      ]
    },
    {
      "cell_type": "markdown",
      "metadata": {
        "id": "iQ8k-L-WUK7l"
      },
      "source": [
        "# Dataset\n",
        "\n",
        "The dataset is composed by sentences taken from the generics_kb dataset of hugging face. We restricted the vocabolary to the 10K most frequent words, and only took sentences making use of this vocabulary."
      ]
    },
    {
      "cell_type": "code",
      "execution_count": null,
      "metadata": {
        "colab": {
          "base_uri": "https://localhost:8080/"
        },
        "id": "nJ02vehGYySk",
        "outputId": "2b17a80b-f941-46a2-e4c3-6892e1ffb939",
        "trusted": true
      },
      "outputs": [],
      "source": [
        "!pip install datasets"
      ]
    },
    {
      "cell_type": "markdown",
      "metadata": {
        "id": "807Wk-ir_bDU"
      },
      "source": [
        "Download the dataset"
      ]
    },
    {
      "cell_type": "code",
      "execution_count": null,
      "metadata": {
        "execution": {
          "iopub.execute_input": "2024-06-10T12:35:45.716937Z",
          "iopub.status.busy": "2024-06-10T12:35:45.716423Z",
          "iopub.status.idle": "2024-06-10T12:35:59.432577Z",
          "shell.execute_reply": "2024-06-10T12:35:59.431765Z",
          "shell.execute_reply.started": "2024-06-10T12:35:45.716910Z"
        },
        "id": "_WjtqA8TrHcS",
        "trusted": true
      },
      "outputs": [],
      "source": [
        "from datasets import load_dataset\n",
        "from keras.layers import TextVectorization\n",
        "import tensorflow as tf\n",
        "import numpy as np\n",
        "np.random.seed(42)\n",
        "\n",
        "# Dataset loading moved below"
      ]
    },
    {
      "cell_type": "markdown",
      "metadata": {
        "id": "lAVLfsdc_ej5"
      },
      "source": [
        "Filter row with length greater than 8.\n"
      ]
    },
    {
      "cell_type": "code",
      "execution_count": null,
      "metadata": {
        "colab": {
          "base_uri": "https://localhost:8080/",
          "height": 301,
          "referenced_widgets": [
            "1042f0aee5454fa3855c6cc5ace059e2",
            "ab7e77d3ba884dcfb61d2856e067b4d7",
            "d318b8f5aa0849d697b12e377bbdd525",
            "0156158385774f1a86899f6f9206ad7d",
            "235eaa3ebf7f4d49baf24be8c60fb096",
            "fc53eee525ee449d874b5cd214210cac",
            "f05ea51dc3b447779de4489b18b9688e",
            "5c7a285a46c04ce6b71cf8a1bc358572",
            "f154084a18bd4bf8b403aaed8580bec5",
            "aacf5bbac7f34421a19047a6bef20772",
            "3c28a6c35d434f009658ffdcfddaa3ad",
            "f5d32c5cc84343d88456a0018ed5578e",
            "e651a29ea1a446a788f893238470b697",
            "ec40aa0e1f5a49a3b0bdb1440b1a6856",
            "0c409b03de424bce9286a492443f8599",
            "00dd52ef3b6c429ab6a838111b81d800",
            "54871866d29f42948e3404d1cd1ca5b6",
            "248cface63c84e3e86850bdab42dd2d0",
            "f1bc7e998c0c4eccb96a7e0d706275d7",
            "b761b2eebe494d868bd7c94bd3cda225",
            "6ef91bf9e41e4289a7d209397d8dcfcb",
            "acd6c866c7bc4beb9740188d67faed6d",
            "21f462aeddad4fd5a84b93715090c2b5",
            "07d2274e1d7949a0b386078880e9e271",
            "3e531964803043598782fbbd5c7ac9d5",
            "59d6d53d85a742b48019e9049a70bc88",
            "93efb9821b6d416dbefcc88d2f80f410",
            "742fabe3a98645889887fc1da94b0d7c",
            "00353884674549399d968c8095d9118b",
            "4c5e3050640d42a4884ebfbea9ad50fd",
            "27b3fb2f57204e19984f8cbe85be756c",
            "85a029b2784341dea775f3270b6df036",
            "73e2155a0a8144108e5909d713718041",
            "5e6e9b84bb43433e8182e4459bfedce8",
            "2f1936e3d3b34395977d5a29f5679e43",
            "75a0b9c6ec0f4394acc98d7a08d1e4b7",
            "0dd5384219a74a7b8d3afe3818bf0aa2",
            "7528f54a1d0044729a7d1e9fa8b2cb21",
            "925f242d7cf44e0d96d5e1af1ff61988",
            "d023c9287a9c49e7b9bca695b7b892d1",
            "904edc465cbe4089850d6c6834fe7dd8",
            "65aa8a83202b4986ad8c2207b318d6f6",
            "12dc35ac699d4f8b8dc03d85a7653765",
            "c5e02f675b8242df95b66dcc06cc4b0c",
            "5a6ef4f6678148ed81fc6ad8a16d4afe",
            "2016753d2c8f4c27bef40b918bc17dbb",
            "9371153e34aa412fb591df036021fb48",
            "4ba3a219f4e345d496c57ecaf42753c7",
            "c61976506bbe4659a5e5df6a448c8dd9",
            "dd1d9c586ba9416098b15592e4d99891",
            "f987dbf2a48d40ddac336560b29c8e6b",
            "a944d8c2cabd4948986816ff7c67f3b4",
            "bfe0454586b346639622cc3e33796c64",
            "58eb863a178243e6b285ae5037b7a69b",
            "c428be995cc9480b98a1650687b8130e"
          ]
        },
        "execution": {
          "iopub.execute_input": "2024-06-10T12:35:59.434566Z",
          "iopub.status.busy": "2024-06-10T12:35:59.433941Z",
          "iopub.status.idle": "2024-06-10T12:38:38.420454Z",
          "shell.execute_reply": "2024-06-10T12:38:38.419569Z",
          "shell.execute_reply.started": "2024-06-10T12:35:59.434538Z"
        },
        "id": "iznq8xGNt2Zr",
        "outputId": "36415970-1b58-4134-c28d-83c9037b2f2a",
        "trusted": true
      },
      "outputs": [],
      "source": [
        "ds = load_dataset(\"generics_kb\", trust_remote_code=True)[\"train\"]\n",
        "\n",
        "ds = ds.filter(lambda row: len(row[\"generic_sentence\"].split(\" \")) > 8)\n",
        "corpus = [ \"<start> \" + row[\"generic_sentence\"].replace(\",\", \" <comma>\") + \" <end>\" for row in ds ]\n",
        "corpus = np.array(corpus)"
      ]
    },
    {
      "cell_type": "markdown",
      "metadata": {
        "id": "FyYpXLCF_ldR"
      },
      "source": [
        "Create a tokenizer and Detokenizer"
      ]
    },
    {
      "cell_type": "code",
      "execution_count": 3,
      "metadata": {
        "execution": {
          "iopub.execute_input": "2024-06-10T12:38:38.422635Z",
          "iopub.status.busy": "2024-06-10T12:38:38.422326Z",
          "iopub.status.idle": "2024-06-10T12:38:38.430119Z",
          "shell.execute_reply": "2024-06-10T12:38:38.429169Z",
          "shell.execute_reply.started": "2024-06-10T12:38:38.422609Z"
        },
        "id": "KXb1Z2SvEHk_",
        "trusted": true
      },
      "outputs": [],
      "source": [
        "class TextDetokenizer:\n",
        "    def __init__(self, vectorize_layer):\n",
        "        self.vectorize_layer = vectorize_layer\n",
        "        vocab = self.vectorize_layer.get_vocabulary()\n",
        "        self.index_to_word = {index: word for index, word in enumerate(vocab)}\n",
        "\n",
        "    def __detokenize_tokens(self, tokens):\n",
        "        def check_token(t):\n",
        "          if t == 3:\n",
        "            s = \"<start>\"\n",
        "          elif t == 2:\n",
        "            s = \"<end>\"\n",
        "          elif t == 7:\n",
        "            s = \"<comma>\"\n",
        "          else:\n",
        "            s = self.index_to_word.get(t, \"[UNK]\")\n",
        "          return s\n",
        "\n",
        "        return \" \".join([ check_token(token) for token in tokens if token != 0 ])\n",
        "\n",
        "    def __call__(self, batch_tokens):\n",
        "       return [self.__detokenize_tokens(tokens) for tokens in batch_tokens]"
      ]
    },
    {
      "cell_type": "code",
      "execution_count": 5,
      "metadata": {
        "execution": {
          "iopub.execute_input": "2024-06-10T12:38:38.431574Z",
          "iopub.status.busy": "2024-06-10T12:38:38.431239Z",
          "iopub.status.idle": "2024-06-10T12:38:46.120614Z",
          "shell.execute_reply": "2024-06-10T12:38:46.119562Z",
          "shell.execute_reply.started": "2024-06-10T12:38:38.431543Z"
        },
        "id": "T-bE2JpVbU9E",
        "trusted": true
      },
      "outputs": [],
      "source": [
        "tokenizer=TextVectorization( max_tokens=10000, standardize=\"lower_and_strip_punctuation\", encoding=\"utf-8\")\n",
        "tokenizer.adapt(corpus)\n",
        "\n",
        "detokenizer = TextDetokenizer( tokenizer )\n",
        "sentences = tokenizer( corpus ).numpy()"
      ]
    },
    {
      "cell_type": "markdown",
      "metadata": {
        "id": "lZ64sns1_pSK"
      },
      "source": [
        "Remove from corpus the sentences where any unknow word appears"
      ]
    },
    {
      "cell_type": "code",
      "execution_count": 6,
      "metadata": {
        "execution": {
          "iopub.execute_input": "2024-06-10T12:38:46.122855Z",
          "iopub.status.busy": "2024-06-10T12:38:46.122563Z",
          "iopub.status.idle": "2024-06-10T12:38:46.181176Z",
          "shell.execute_reply": "2024-06-10T12:38:46.180375Z",
          "shell.execute_reply.started": "2024-06-10T12:38:46.122830Z"
        },
        "id": "2LPQtryQz5wh",
        "trusted": true
      },
      "outputs": [],
      "source": [
        "mask = np.sum((sentences==1), axis=1) >= 1\n",
        "original_data = np.delete( sentences, mask , axis=0)"
      ]
    },
    {
      "cell_type": "code",
      "execution_count": 7,
      "metadata": {
        "colab": {
          "base_uri": "https://localhost:8080/"
        },
        "execution": {
          "iopub.execute_input": "2024-06-10T12:38:46.182785Z",
          "iopub.status.busy": "2024-06-10T12:38:46.182425Z",
          "iopub.status.idle": "2024-06-10T12:38:46.189859Z",
          "shell.execute_reply": "2024-06-10T12:38:46.189032Z",
          "shell.execute_reply.started": "2024-06-10T12:38:46.182755Z"
        },
        "id": "qYfOscVk7U0r",
        "outputId": "a87cdd59-dbc5-45b7-e31e-8eebdfaf445a",
        "trusted": true
      },
      "outputs": [
        {
          "data": {
            "text/plain": [
              "(241236, 28)"
            ]
          },
          "execution_count": 7,
          "metadata": {},
          "output_type": "execute_result"
        }
      ],
      "source": [
        "original_data.shape"
      ]
    },
    {
      "cell_type": "markdown",
      "metadata": {
        "id": "5puiiQ2D_uxa"
      },
      "source": [
        "Shuffle the sentences"
      ]
    },
    {
      "cell_type": "code",
      "execution_count": 2,
      "metadata": {
        "execution": {
          "iopub.execute_input": "2024-06-10T12:38:46.191214Z",
          "iopub.status.busy": "2024-06-10T12:38:46.190949Z",
          "iopub.status.idle": "2024-06-10T12:38:46.228418Z",
          "shell.execute_reply": "2024-06-10T12:38:46.227720Z",
          "shell.execute_reply.started": "2024-06-10T12:38:46.191192Z"
        },
        "id": "1ZXLkWB6od0R",
        "trusted": true
      },
      "outputs": [],
      "source": [
        "from tensorflow.keras.utils import Sequence\n",
        "\n",
        "class DataGenerator(Sequence):\n",
        "    def __init__(self, data, batch_size=32, shuffle=True, seed=42):\n",
        "        self.data = data\n",
        "        self.batch_size = batch_size\n",
        "        self.shuffle = shuffle\n",
        "        self.seed = seed\n",
        "        self.on_epoch_end()\n",
        "\n",
        "\n",
        "    def __len__(self):\n",
        "        return int(np.floor(len(self.data) / self.batch_size))\n",
        "\n",
        "    def __getitem__(self, index):\n",
        "        indexes = self.indexes[index*self.batch_size:(index+1)*self.batch_size]\n",
        "\n",
        "        data_batch = np.array([self.data[k] for k in indexes])\n",
        "        #copy of ordered sequences\n",
        "        result = np.copy(data_batch)\n",
        "        #shuffle only the relevant positions for each batch\n",
        "        for i in range(data_batch.shape[0]):\n",
        "          np.random.shuffle(data_batch[i,1:data_batch[i].argmin() - 1])\n",
        "\n",
        "        return data_batch , result\n",
        "\n",
        "    def on_epoch_end(self):\n",
        "        self.indexes = np.arange(len(self.data))\n",
        "        if self.shuffle:\n",
        "            if self.seed is not None:\n",
        "                np.random.seed(self.seed)\n",
        "            np.random.shuffle(self.indexes)"
      ]
    },
    {
      "cell_type": "code",
      "execution_count": 9,
      "metadata": {
        "execution": {
          "iopub.execute_input": "2024-06-10T12:38:46.229679Z",
          "iopub.status.busy": "2024-06-10T12:38:46.229417Z",
          "iopub.status.idle": "2024-06-10T12:38:46.271294Z",
          "shell.execute_reply": "2024-06-10T12:38:46.270120Z",
          "shell.execute_reply.started": "2024-06-10T12:38:46.229657Z"
        },
        "id": "fNo_Jy3N8zHS",
        "trusted": true
      },
      "outputs": [],
      "source": [
        "# Make a random permutation of training and test set\n",
        "np.random.seed(42)\n",
        "# Shuffle the all data\n",
        "shuffled_indices = np.random.permutation(len(original_data))\n",
        "shuffled_data = original_data[shuffled_indices]"
      ]
    },
    {
      "cell_type": "code",
      "execution_count": 10,
      "metadata": {
        "execution": {
          "iopub.execute_input": "2024-06-10T12:38:46.273456Z",
          "iopub.status.busy": "2024-06-10T12:38:46.272713Z",
          "iopub.status.idle": "2024-06-10T12:38:46.284328Z",
          "shell.execute_reply": "2024-06-10T12:38:46.283403Z",
          "shell.execute_reply.started": "2024-06-10T12:38:46.273417Z"
        },
        "id": "uNlq1Khx1oH2",
        "trusted": true
      },
      "outputs": [],
      "source": [
        "# split the dataset\n",
        "train_generator = DataGenerator(shuffled_data[:220000])\n",
        "test_generator = DataGenerator(shuffled_data[220000:])"
      ]
    },
    {
      "cell_type": "code",
      "execution_count": 11,
      "metadata": {
        "colab": {
          "base_uri": "https://localhost:8080/"
        },
        "execution": {
          "iopub.execute_input": "2024-06-10T12:38:46.286098Z",
          "iopub.status.busy": "2024-06-10T12:38:46.285717Z",
          "iopub.status.idle": "2024-06-10T12:38:46.297956Z",
          "shell.execute_reply": "2024-06-10T12:38:46.297114Z",
          "shell.execute_reply.started": "2024-06-10T12:38:46.286048Z"
        },
        "id": "qR5xwMOn4E88",
        "outputId": "b176e9bc-f7cb-47e5-fd36-6aaadad730fc",
        "trusted": true
      },
      "outputs": [
        {
          "name": "stdout",
          "output_type": "stream",
          "text": [
            "original:  <start> ranchers clear large areas of rainforest to become pastures for their cattle <end>\n",
            "shuffled:  <start> large their areas for cattle ranchers rainforest clear pastures become to of <end>\n",
            "\n",
            "\n",
            "original:  <start> some earwigs have stripes on the thorax and abdomen <end>\n",
            "shuffled:  <start> stripes thorax some and the earwigs on abdomen have <end>\n",
            "\n",
            "\n",
            "original:  <start> magnetic manipulation can turn molecules in a liquid into computing such devices <end>\n",
            "shuffled:  <start> into in magnetic such a liquid molecules can manipulation computing turn devices <end>\n",
            "\n",
            "\n",
            "original:  <start> healthy wetlands means cleaner water <comma> reduced flooding and more places for recreation <end>\n",
            "shuffled:  <start> reduced wetlands and recreation for water places healthy cleaner flooding <comma> means more <end>\n",
            "\n",
            "\n",
            "original:  <start> market share is the percent share in sales one company controls in a particular market <end>\n",
            "shuffled:  <start> company percent share one controls a sales in market is share the particular in market <end>\n",
            "\n",
            "\n",
            "original:  <start> face flies spend only a small amount of time on the animal <end>\n",
            "shuffled:  <start> of on animal only a the small flies time amount spend face <end>\n",
            "\n",
            "\n",
            "original:  <start> organic foods are extremely important in prevention and management of cancer <end>\n",
            "shuffled:  <start> extremely management in of foods are prevention and cancer important organic <end>\n",
            "\n",
            "\n"
          ]
        }
      ],
      "source": [
        "x, y = test_generator.__getitem__(1)\n",
        "x = detokenizer(x)\n",
        "y = detokenizer(y)\n",
        "\n",
        "for i in range(7):\n",
        "  print(\"original: \", y[i])\n",
        "  print(\"shuffled: \", x[i])\n",
        "  print(\"\\n\")"
      ]
    },
    {
      "cell_type": "markdown",
      "metadata": {
        "id": "Fo8MazCGBTv3"
      },
      "source": [
        "# Metrics"
      ]
    },
    {
      "cell_type": "markdown",
      "metadata": {
        "id": "G0NOkuO0CfPo"
      },
      "source": [
        "Let s be the source string and p your prediction. The quality of the results will be measured according to the following metric:\n",
        "\n",
        "1.  look for the longest substring w between s and p\n",
        "2.  compute |w|/max(|s|,|p|)\n",
        "\n",
        "If the match is exact, the score is 1.\n",
        "\n",
        "When computing the score, you should NOT consider the start and end tokens.\n",
        "\n"
      ]
    },
    {
      "cell_type": "markdown",
      "metadata": {
        "id": "a-aUrdlXDdVf"
      },
      "source": [
        "The longest common substring can be computed with the SequenceMatcher function of difflib, that allows a simple definition of our metric."
      ]
    },
    {
      "cell_type": "code",
      "execution_count": 4,
      "metadata": {
        "execution": {
          "iopub.execute_input": "2024-06-10T12:38:46.308314Z",
          "iopub.status.busy": "2024-06-10T12:38:46.307981Z",
          "iopub.status.idle": "2024-06-10T12:38:46.315796Z",
          "shell.execute_reply": "2024-06-10T12:38:46.314869Z",
          "shell.execute_reply.started": "2024-06-10T12:38:46.308290Z"
        },
        "id": "ulpTRdrF_huh",
        "trusted": true
      },
      "outputs": [],
      "source": [
        "from difflib import SequenceMatcher\n",
        "\n",
        "def score(s,p):\n",
        "  match = SequenceMatcher(None, s, p).find_longest_match()\n",
        "  # print(match.size)\n",
        "  return (match.size/max(len(p),len(s)))"
      ]
    },
    {
      "cell_type": "markdown",
      "metadata": {
        "id": "RB2YfjXNExM-"
      },
      "source": [
        "Let's do an example."
      ]
    },
    {
      "cell_type": "code",
      "execution_count": 13,
      "metadata": {
        "colab": {
          "base_uri": "https://localhost:8080/"
        },
        "execution": {
          "iopub.execute_input": "2024-06-10T12:38:46.317262Z",
          "iopub.status.busy": "2024-06-10T12:38:46.316903Z",
          "iopub.status.idle": "2024-06-10T12:38:46.325942Z",
          "shell.execute_reply": "2024-06-10T12:38:46.325036Z",
          "shell.execute_reply.started": "2024-06-10T12:38:46.317231Z"
        },
        "id": "h17C8bVjEwur",
        "outputId": "c9a9fa8d-6858-4629-badf-3266dfbb426f",
        "trusted": true
      },
      "outputs": [
        {
          "name": "stdout",
          "output_type": "stream",
          "text": [
            "your score is  0.5423728813559322\n"
          ]
        }
      ],
      "source": [
        "original = \"at first henry wanted to be friends with the king of france\"\n",
        "generated = \"henry wanted to be friends with king of france at the first\"\n",
        "\n",
        "print(\"your score is \", score(original,generated))"
      ]
    },
    {
      "cell_type": "markdown",
      "metadata": {
        "id": "BET8GqBvFugR"
      },
      "source": [
        "The score must be computed as an average of at least 3K random examples taken form the test set."
      ]
    },
    {
      "cell_type": "markdown",
      "metadata": {
        "id": "4fwo7xj4GBW1"
      },
      "source": [
        "# What to deliver"
      ]
    },
    {
      "cell_type": "markdown",
      "metadata": {
        "id": "i6uITuxOGHfJ"
      },
      "source": [
        "You are supposed to deliver a single notebook, suitably commented.\n",
        "The notebook should describe a single model, although you may briefly discuss additional attempts you did.\n",
        "\n",
        "The notebook should contain a full trace of the training.\n",
        "Weights should be made available on request.\n",
        "\n",
        "You must also give a clear assesment of the performance of the model, computed with the metric that has been given to you.\n",
        "\n",
        "# Good work!"
      ]
    },
    {
      "cell_type": "markdown",
      "metadata": {
        "id": "KXojWPaTEHlC"
      },
      "source": [
        "---\n",
        "---"
      ]
    },
    {
      "cell_type": "markdown",
      "metadata": {
        "id": "Gi9ZjJFBEHlC"
      },
      "source": [
        "## Initialization"
      ]
    },
    {
      "cell_type": "code",
      "execution_count": 8,
      "metadata": {
        "execution": {
          "iopub.execute_input": "2024-06-10T12:38:46.327264Z",
          "iopub.status.busy": "2024-06-10T12:38:46.326972Z",
          "iopub.status.idle": "2024-06-10T12:38:46.338694Z",
          "shell.execute_reply": "2024-06-10T12:38:46.337749Z",
          "shell.execute_reply.started": "2024-06-10T12:38:46.327235Z"
        },
        "id": "X1_y3NheEHlC",
        "trusted": true
      },
      "outputs": [],
      "source": [
        "import tensorflow as tf\n",
        "import tensorflow.keras as keras\n",
        "import pickle\n",
        "import numpy as np\n",
        "from tqdm import tqdm\n",
        "import matplotlib.pyplot as plt\n",
        "import json"
      ]
    },
    {
      "cell_type": "code",
      "execution_count": null,
      "metadata": {
        "id": "mG2qdHHVEHlC",
        "trusted": true
      },
      "outputs": [],
      "source": [
        "# Caching dataset and tokenizer\n",
        "\n",
        "# np.save(\"./dataset.npy\", shuffled_data)\n",
        "# with open(\"./tokenizer.pkl\", \"wb\") as f:\n",
        "#     pickle.dump({\"config\": tokenizer.get_config(), \"weights\": tokenizer.get_weights()}, f)"
      ]
    },
    {
      "cell_type": "code",
      "execution_count": null,
      "metadata": {
        "id": "pJEJCeD-EHlE",
        "outputId": "f56e031c-3bbc-450e-c7b5-2cc55d54eb77",
        "trusted": true
      },
      "outputs": [],
      "source": [
        "# Loading dataset and tokenizer from cache\n",
        "\n",
        "# shuffled_data = np.load(\"./dataset.npy\")\n",
        "\n",
        "# with open(\"./tokenizer.pkl\", \"rb\") as f:\n",
        "#     tokenizer_data = pickle.load(f)\n",
        "#     tokenizer = TextVectorization.from_config(tokenizer_data[\"config\"])\n",
        "#     tokenizer.set_weights(tokenizer_data[\"weights\"])\n",
        "# detokenizer = TextDetokenizer(tokenizer)"
      ]
    },
    {
      "cell_type": "code",
      "execution_count": null,
      "metadata": {
        "execution": {
          "iopub.execute_input": "2024-06-10T12:38:46.340419Z",
          "iopub.status.busy": "2024-06-10T12:38:46.339911Z",
          "iopub.status.idle": "2024-06-10T12:38:46.373855Z",
          "shell.execute_reply": "2024-06-10T12:38:46.373204Z",
          "shell.execute_reply.started": "2024-06-10T12:38:46.340388Z"
        },
        "id": "HNZbW3tyEHlE",
        "trusted": true
      },
      "outputs": [],
      "source": [
        "START_TOKEN = tokenizer(\"<start>\").numpy()[0]\n",
        "END_TOKEN = tokenizer(\"<end>\").numpy()[0]\n",
        "PAD_TOKEN = 0\n",
        "VOCAB_SIZE = tokenizer.vocabulary_size()\n",
        "SEQ_MAX_LEN = shuffled_data.shape[1]\n",
        "\n",
        "RANDOM_SEED = 42"
      ]
    },
    {
      "cell_type": "markdown",
      "metadata": {
        "id": "VzByXjIMEHlE"
      },
      "source": [
        "## Model components"
      ]
    },
    {
      "cell_type": "code",
      "execution_count": 16,
      "metadata": {
        "execution": {
          "iopub.execute_input": "2024-06-10T12:38:46.375246Z",
          "iopub.status.busy": "2024-06-10T12:38:46.374914Z",
          "iopub.status.idle": "2024-06-10T12:38:46.385411Z",
          "shell.execute_reply": "2024-06-10T12:38:46.384548Z",
          "shell.execute_reply.started": "2024-06-10T12:38:46.375214Z"
        },
        "id": "DK364zJyEHlE",
        "trusted": true
      },
      "outputs": [],
      "source": [
        "class TokenAndPositionEmbedding(keras.layers.Layer):\n",
        "    def __init__(self, max_length, vocab_size, embed_dim, **kwargs):\n",
        "        super().__init__(**kwargs)\n",
        "\n",
        "        self.token_emb = keras.layers.Embedding(input_dim=vocab_size, output_dim=embed_dim, mask_zero=True)\n",
        "        self.pos_encoding = self.positionalEncoding(length=max_length, depth=embed_dim)\n",
        "        self.max_length = max_length\n",
        "        self.embed_dim = embed_dim\n",
        "\n",
        "\n",
        "    def positionalEncoding(self, length, depth):\n",
        "        # Implementation taken from https://www.tensorflow.org/text/tutorials/transformer#the_embedding_and_positional_encoding_layer\n",
        "        depth = depth / 2\n",
        "\n",
        "        positions = np.arange(length)[:, np.newaxis]\n",
        "        depths = np.arange(depth)[np.newaxis, :] / depth\n",
        "\n",
        "        angle_rates = 1 / (10000**depths)\n",
        "        angle_rads = positions * angle_rates\n",
        "\n",
        "        return tf.cast(np.concatenate( [np.sin(angle_rads), np.cos(angle_rads)], axis=-1), dtype=tf.float32)\n",
        "\n",
        "\n",
        "    def call(self, x, training):\n",
        "        x = self.token_emb(x, training=training)\n",
        "        x *= tf.math.sqrt(tf.cast(self.embed_dim, tf.float32))\n",
        "        x = x + self.pos_encoding[tf.newaxis, :tf.shape(x)[1], :]\n",
        "        return x"
      ]
    },
    {
      "cell_type": "code",
      "execution_count": 17,
      "metadata": {
        "execution": {
          "iopub.execute_input": "2024-06-10T12:38:46.387128Z",
          "iopub.status.busy": "2024-06-10T12:38:46.386772Z",
          "iopub.status.idle": "2024-06-10T12:38:46.398145Z",
          "shell.execute_reply": "2024-06-10T12:38:46.397324Z",
          "shell.execute_reply.started": "2024-06-10T12:38:46.387096Z"
        },
        "id": "WkxRbn9mEHlE",
        "trusted": true
      },
      "outputs": [],
      "source": [
        "class TransformerEncoder(keras.layers.Layer):\n",
        "    def __init__(self, num_attention_heads=6, embed_dim=128, ff_dim=1024, activation=\"swish\", dropout_prob=0.1, **kwargs):\n",
        "        super().__init__(**kwargs)\n",
        "\n",
        "        self.attention_heads = keras.layers.MultiHeadAttention(num_heads=num_attention_heads, key_dim=embed_dim, dropout=dropout_prob)\n",
        "        self.attention_norm = keras.layers.LayerNormalization(epsilon=1e-5)\n",
        "\n",
        "        self.ff_block = keras.Sequential([\n",
        "            keras.layers.Dense(ff_dim, activation=activation),\n",
        "            keras.layers.Dropout(dropout_prob),\n",
        "            keras.layers.Dense(embed_dim),\n",
        "        ])\n",
        "        self.ff_norm = keras.layers.LayerNormalization(epsilon=1e-5)\n",
        "\n",
        "\n",
        "    def call(self, inputs, training):\n",
        "        attention_out = self.attention_heads(\n",
        "            query = inputs,\n",
        "            value = inputs,\n",
        "            key = inputs,\n",
        "            training = training\n",
        "        )\n",
        "        attention_out = self.attention_norm(attention_out + inputs, training=training)\n",
        "        ff_out = self.ff_block(attention_out, training=training)\n",
        "        return self.ff_norm(ff_out + attention_out, training=training)"
      ]
    },
    {
      "cell_type": "code",
      "execution_count": 18,
      "metadata": {
        "execution": {
          "iopub.execute_input": "2024-06-10T12:38:46.399596Z",
          "iopub.status.busy": "2024-06-10T12:38:46.399296Z",
          "iopub.status.idle": "2024-06-10T12:38:46.411033Z",
          "shell.execute_reply": "2024-06-10T12:38:46.410286Z",
          "shell.execute_reply.started": "2024-06-10T12:38:46.399574Z"
        },
        "id": "wI17n-Q7EHlE",
        "trusted": true
      },
      "outputs": [],
      "source": [
        "class TransformerDecoder(keras.layers.Layer):\n",
        "    def __init__(self, num_attention_heads=6, embed_dim=128, ff_dim=1024, activation=\"swish\", dropout_prob=0.1, **kwargs):\n",
        "        super().__init__(**kwargs)\n",
        "\n",
        "        self.attention_heads1 = keras.layers.MultiHeadAttention(num_heads=num_attention_heads, key_dim=embed_dim, dropout=dropout_prob)\n",
        "        self.attention_heads2 = keras.layers.MultiHeadAttention(num_heads=num_attention_heads, key_dim=embed_dim, dropout=dropout_prob)\n",
        "        self.attention_norm1 = keras.layers.LayerNormalization(epsilon=1e-5)\n",
        "        self.attention_norm2 = keras.layers.LayerNormalization(epsilon=1e-5)\n",
        "\n",
        "        self.ff_block = keras.Sequential([\n",
        "            keras.layers.Dense(ff_dim, activation=activation),\n",
        "            keras.layers.Dropout(dropout_prob),\n",
        "            keras.layers.Dense(embed_dim),\n",
        "        ])\n",
        "        self.ff_norm = keras.layers.LayerNormalization(epsilon=1e-5)\n",
        "\n",
        "\n",
        "    def call(self, inputs, encoder_out, training):\n",
        "        attention1_out = self.attention_heads1(\n",
        "            query = inputs,\n",
        "            value = inputs,\n",
        "            key = inputs,\n",
        "            use_causal_mask = True,\n",
        "            training = training\n",
        "        )\n",
        "        attention1_out = self.attention_norm1(attention1_out + inputs, training=training)\n",
        "\n",
        "        attention2_out = self.attention_heads2(\n",
        "            query = attention1_out,\n",
        "            value = encoder_out,\n",
        "            key = encoder_out,\n",
        "            training = training\n",
        "        )\n",
        "        attention2_out = self.attention_norm2(attention2_out + attention1_out, training=training)\n",
        "\n",
        "        ff_out = self.ff_block(attention2_out, training=training)\n",
        "        return self.ff_norm(ff_out + attention2_out, training=training)"
      ]
    },
    {
      "cell_type": "code",
      "execution_count": 19,
      "metadata": {
        "execution": {
          "iopub.execute_input": "2024-06-10T12:38:46.412212Z",
          "iopub.status.busy": "2024-06-10T12:38:46.411922Z",
          "iopub.status.idle": "2024-06-10T12:38:46.425768Z",
          "shell.execute_reply": "2024-06-10T12:38:46.424848Z",
          "shell.execute_reply.started": "2024-06-10T12:38:46.412190Z"
        },
        "id": "L4VB9DP8EHlF",
        "trusted": true
      },
      "outputs": [],
      "source": [
        "class SentenceReorderModel(keras.Model):\n",
        "    def __init__(self,\n",
        "        input_size = SEQ_MAX_LEN,\n",
        "        vocab_size = VOCAB_SIZE,\n",
        "        d_model = 256,\n",
        "        num_encoders = 3,\n",
        "        encoder_attention_heads = 6,\n",
        "        encoder_ff_dim = 512,\n",
        "        num_decoders = 3,\n",
        "        decoder_attention_heads = 6,\n",
        "        decoder_ff_dim = 512,\n",
        "        activation = \"swish\"\n",
        "    ):\n",
        "        super().__init__()\n",
        "\n",
        "        self.embedding = TokenAndPositionEmbedding(input_size, vocab_size, d_model, name=\"embedding\")\n",
        "        self.encoders_block = [\n",
        "            TransformerEncoder(embed_dim=d_model, num_attention_heads=encoder_attention_heads, ff_dim=encoder_ff_dim, activation=activation, name=f\"encoder{i}\")\n",
        "            for i in range(num_encoders)\n",
        "        ]\n",
        "        self.decoders_block = [\n",
        "            TransformerDecoder(embed_dim=d_model, num_attention_heads=decoder_attention_heads, ff_dim=decoder_ff_dim, activation=activation, name=f\"decoder{i}\")\n",
        "            for i in range(num_decoders)\n",
        "        ]\n",
        "        self.final_layer = keras.layers.Dense(vocab_size, activation=\"softmax\", name=\"final-softmax\")\n",
        "\n",
        "\n",
        "    def call(self, inputs, training=False):\n",
        "        encoder_in, decoded_in = inputs\n",
        "\n",
        "        encoder_out = self.embedding(encoder_in, training=training)\n",
        "        for i in range(len(self.encoders_block)):\n",
        "            encoder_out = self.encoders_block[i](encoder_out, training=training)\n",
        "\n",
        "        decoder_out = self.embedding(decoded_in, training=training)\n",
        "        for i in range(len(self.decoders_block)):\n",
        "            decoder_out = self.decoders_block[i](decoder_out, encoder_out, training=training)\n",
        "\n",
        "        return self.final_layer(decoder_out, training=training)"
      ]
    },
    {
      "cell_type": "code",
      "execution_count": 20,
      "metadata": {
        "colab": {
          "base_uri": "https://localhost:8080/"
        },
        "execution": {
          "iopub.execute_input": "2024-06-10T12:39:25.027213Z",
          "iopub.status.busy": "2024-06-10T12:39:25.026772Z",
          "iopub.status.idle": "2024-06-10T12:39:28.825863Z",
          "shell.execute_reply": "2024-06-10T12:39:28.824910Z",
          "shell.execute_reply.started": "2024-06-10T12:39:25.027178Z"
        },
        "id": "hOkACjblEHlF",
        "outputId": "48eb7ec6-6bbe-44b1-9115-530127e7b775",
        "trusted": true
      },
      "outputs": [
        {
          "name": "stdout",
          "output_type": "stream",
          "text": [
            "Model: \"model\"\n",
            "__________________________________________________________________________________________________\n",
            " Layer (type)                Output Shape                 Param #   Connected to                  \n",
            "==================================================================================================\n",
            " decoder-in (InputLayer)     [(None, 28)]                 0         []                            \n",
            "                                                                                                  \n",
            " encoder-in (InputLayer)     [(None, 28)]                 0         []                            \n",
            "                                                                                                  \n",
            " embedding (TokenAndPositio  (None, 28, 48)               480000    ['encoder-in[0][0]',          \n",
            " nEmbedding)                                                         'decoder-in[0][0]']          \n",
            "                                                                                                  \n",
            " encoder0 (TransformerEncod  (None, 28, 48)               349472    ['embedding[0][0]']           \n",
            " er)                                                                                              \n",
            "                                                                                                  \n",
            " encoder1 (TransformerEncod  (None, 28, 48)               349472    ['encoder0[0][0]']            \n",
            " er)                                                                                              \n",
            "                                                                                                  \n",
            " encoder2 (TransformerEncod  (None, 28, 48)               349472    ['encoder1[0][0]']            \n",
            " er)                                                                                              \n",
            "                                                                                                  \n",
            " encoder3 (TransformerEncod  (None, 28, 48)               349472    ['encoder2[0][0]']            \n",
            " er)                                                                                              \n",
            "                                                                                                  \n",
            " decoder0 (TransformerDecod  (None, 28, 48)               649136    ['embedding[1][0]',           \n",
            " er)                                                                 'encoder3[0][0]']            \n",
            "                                                                                                  \n",
            " decoder1 (TransformerDecod  (None, 28, 48)               649136    ['decoder0[0][0]',            \n",
            " er)                                                                 'encoder3[0][0]']            \n",
            "                                                                                                  \n",
            " decoder2 (TransformerDecod  (None, 28, 48)               649136    ['decoder1[0][0]',            \n",
            " er)                                                                 'encoder3[0][0]']            \n",
            "                                                                                                  \n",
            " decoder3 (TransformerDecod  (None, 28, 48)               649136    ['decoder2[0][0]',            \n",
            " er)                                                                 'encoder3[0][0]']            \n",
            "                                                                                                  \n",
            " final-softmax (Dense)       (None, 28, 10000)            490000    ['decoder3[0][0]']            \n",
            "                                                                                                  \n",
            "==================================================================================================\n",
            "Total params: 4964432 (18.94 MB)\n",
            "Trainable params: 4964432 (18.94 MB)\n",
            "Non-trainable params: 0 (0.00 Byte)\n",
            "__________________________________________________________________________________________________\n"
          ]
        }
      ],
      "source": [
        "d_model = 48\n",
        "\n",
        "model = SentenceReorderModel(\n",
        "    d_model = d_model,\n",
        "    num_encoders = 4,\n",
        "    encoder_attention_heads = 32,\n",
        "    encoder_ff_dim = 512,\n",
        "    num_decoders = 4,\n",
        "    decoder_attention_heads = 32,\n",
        "    decoder_ff_dim = 512,\n",
        ")\n",
        "\n",
        "inputs = [\n",
        "    keras.layers.Input(shape=(SEQ_MAX_LEN,), name=\"encoder-in\"),\n",
        "    keras.layers.Input(shape=(SEQ_MAX_LEN,), name=\"decoder-in\")\n",
        "]\n",
        "keras.Model(inputs=inputs, outputs=model.call(inputs)).summary()"
      ]
    },
    {
      "cell_type": "markdown",
      "metadata": {
        "id": "Jv6wy6gqEHlF"
      },
      "source": [
        "## Training"
      ]
    },
    {
      "cell_type": "markdown",
      "metadata": {
        "id": "tUmycTxoEHlF"
      },
      "source": [
        "### Data preparation"
      ]
    },
    {
      "cell_type": "code",
      "execution_count": 21,
      "metadata": {
        "execution": {
          "iopub.execute_input": "2024-06-10T12:39:32.271872Z",
          "iopub.status.busy": "2024-06-10T12:39:32.271500Z",
          "iopub.status.idle": "2024-06-10T12:39:32.281806Z",
          "shell.execute_reply": "2024-06-10T12:39:32.280810Z",
          "shell.execute_reply.started": "2024-06-10T12:39:32.271841Z"
        },
        "id": "ZDJJpRSoEHlG",
        "trusted": true
      },
      "outputs": [],
      "source": [
        "class DataWrapper(Sequence):\n",
        "    \"\"\"\n",
        "        Wrapper for the data generator that prepares the dataset for teacher forcing.\n",
        "    \"\"\"\n",
        "    def __init__(self, data_generator, tokenizer):\n",
        "        super().__init__()\n",
        "        self.data_generator = data_generator\n",
        "        self.tokenizer = tokenizer\n",
        "\n",
        "\n",
        "    def __len__(self):\n",
        "        return len(self.data_generator)\n",
        "\n",
        "\n",
        "    def on_epoch_end(self):\n",
        "        self.data_generator.on_epoch_end()\n",
        "\n",
        "\n",
        "    def __getitem__(self, index):\n",
        "        x, y = self.data_generator[index]\n",
        "        batch_size = y.shape[0]\n",
        "        max_tokens = y.shape[1]\n",
        "        vocab_size = tokenizer.vocabulary_size()\n",
        "\n",
        "        # Drop <end> token (decoder input)\n",
        "        y_end_dropped = y.copy()\n",
        "        y_end_dropped[np.where(y == END_TOKEN)] = PAD_TOKEN\n",
        "\n",
        "        # Target distributions (ground truth with <start> dropped)\n",
        "        label = np.zeros((batch_size, max_tokens, vocab_size))\n",
        "        for b in range(batch_size):\n",
        "            for i in range(1, max_tokens):\n",
        "                if y[b, i] == PAD_TOKEN: break\n",
        "                label[ b, i-1, y[b, i] ] = 1\n",
        "\n",
        "        return (x, y_end_dropped), label"
      ]
    },
    {
      "cell_type": "code",
      "execution_count": 22,
      "metadata": {
        "colab": {
          "base_uri": "https://localhost:8080/"
        },
        "execution": {
          "iopub.execute_input": "2024-06-10T12:39:33.200242Z",
          "iopub.status.busy": "2024-06-10T12:39:33.199537Z",
          "iopub.status.idle": "2024-06-10T12:39:33.213283Z",
          "shell.execute_reply": "2024-06-10T12:39:33.212304Z",
          "shell.execute_reply.started": "2024-06-10T12:39:33.200212Z"
        },
        "id": "FJ0SzZr1EHlG",
        "outputId": "8e2cc05a-dfab-41e8-d9fa-840f02146a7e",
        "trusted": true
      },
      "outputs": [
        {
          "name": "stdout",
          "output_type": "stream",
          "text": [
            "Dataset shape: (241236, 28)\n",
            "Train size: 209920 (820 batches)\n",
            "Validation size: 9984 (39 batches)\n",
            "Test size: 20992\n"
          ]
        }
      ],
      "source": [
        "VALIDATION_SIZE = 10000\n",
        "BATCH_SIZE = 256\n",
        "\n",
        "train_generator = DataGenerator(shuffled_data[:220000-VALIDATION_SIZE], batch_size=BATCH_SIZE, seed=RANDOM_SEED)\n",
        "val_generator = DataGenerator(shuffled_data[220000-VALIDATION_SIZE : 220000], batch_size=BATCH_SIZE, seed=RANDOM_SEED)\n",
        "test_generator = DataGenerator(shuffled_data[220000:], batch_size=BATCH_SIZE, seed=RANDOM_SEED)\n",
        "\n",
        "train_data = DataWrapper(train_generator, tokenizer)\n",
        "val_data = DataWrapper(val_generator, tokenizer)\n",
        "\n",
        "print(f\"Dataset shape: {shuffled_data.shape}\")\n",
        "print(f\"Train size: {len(train_data)*BATCH_SIZE} ({len(train_data)} batches)\")\n",
        "print(f\"Validation size: {len(val_data)*BATCH_SIZE} ({len(val_data)} batches)\")\n",
        "print(f\"Test size: {len(test_generator)*BATCH_SIZE}\")"
      ]
    },
    {
      "cell_type": "markdown",
      "metadata": {
        "id": "HLuOAnR6EHlG"
      },
      "source": [
        "### Scheduler"
      ]
    },
    {
      "cell_type": "code",
      "execution_count": 23,
      "metadata": {
        "execution": {
          "iopub.execute_input": "2024-06-10T12:39:34.326095Z",
          "iopub.status.busy": "2024-06-10T12:39:34.325459Z",
          "iopub.status.idle": "2024-06-10T12:39:34.332925Z",
          "shell.execute_reply": "2024-06-10T12:39:34.331947Z",
          "shell.execute_reply.started": "2024-06-10T12:39:34.326048Z"
        },
        "id": "RhDCF0DhEHlG",
        "trusted": true
      },
      "outputs": [],
      "source": [
        "# Implementation taken from https://www.tensorflow.org/text/tutorials/transformer#set_up_the_optimizer\n",
        "class TransformerScheduler(tf.keras.optimizers.schedules.LearningRateSchedule):\n",
        "    def __init__(self, d_model, warmup_steps=4000):\n",
        "        super().__init__()\n",
        "\n",
        "        self.d_model = d_model\n",
        "        self.d_model = tf.cast(self.d_model, tf.float32)\n",
        "\n",
        "        self.warmup_steps = warmup_steps\n",
        "\n",
        "\n",
        "    def __call__(self, step):\n",
        "        step = tf.cast(step, dtype=tf.float32)\n",
        "        arg1 = tf.math.rsqrt(step)\n",
        "        arg2 = step * (self.warmup_steps ** -1.5)\n",
        "\n",
        "        return tf.math.rsqrt(self.d_model) * tf.math.minimum(arg1, arg2)"
      ]
    },
    {
      "cell_type": "markdown",
      "metadata": {
        "id": "UNQhGndBEHlG"
      },
      "source": [
        "### Loss"
      ]
    },
    {
      "cell_type": "code",
      "execution_count": 24,
      "metadata": {
        "execution": {
          "iopub.execute_input": "2024-06-10T12:39:35.147365Z",
          "iopub.status.busy": "2024-06-10T12:39:35.146710Z",
          "iopub.status.idle": "2024-06-10T12:39:35.153578Z",
          "shell.execute_reply": "2024-06-10T12:39:35.152585Z",
          "shell.execute_reply.started": "2024-06-10T12:39:35.147329Z"
        },
        "id": "xyu6KVT3EHlG",
        "trusted": true
      },
      "outputs": [],
      "source": [
        "def maskedCategoricalCrossentropy(label, pred):\n",
        "    \"\"\"\n",
        "        Categorical cross-entropy with padding tokens masked\n",
        "    \"\"\"\n",
        "    loss_object = keras.losses.CategoricalCrossentropy(reduction=\"none\", axis=2)\n",
        "    loss = loss_object(label, pred)\n",
        "\n",
        "    mask = tf.reduce_sum(label, axis=2) # Mask for \"distributions\" with only 0s\n",
        "    loss = loss * tf.cast(mask, dtype=loss.dtype)\n",
        "\n",
        "    return tf.reduce_sum(loss) / tf.reduce_sum(mask)"
      ]
    },
    {
      "cell_type": "markdown",
      "metadata": {
        "id": "BCDSssbcEHlH"
      },
      "source": [
        "### Fit"
      ]
    },
    {
      "cell_type": "code",
      "execution_count": 28,
      "metadata": {
        "_kg_hide-output": false,
        "colab": {
          "base_uri": "https://localhost:8080/",
          "height": 374
        },
        "execution": {
          "iopub.execute_input": "2024-06-10T12:40:35.604331Z",
          "iopub.status.busy": "2024-06-10T12:40:35.603842Z",
          "iopub.status.idle": "2024-06-10T16:34:44.130965Z",
          "shell.execute_reply": "2024-06-10T16:34:44.130114Z",
          "shell.execute_reply.started": "2024-06-10T12:40:35.604297Z"
        },
        "id": "sQDLgofGEHlH",
        "outputId": "20519c99-99e3-455d-86ff-8276cdc37f7d",
        "trusted": true
      },
      "outputs": [
        {
          "name": "stdout",
          "output_type": "stream",
          "text": [
            "Epoch 1/30\n",
            "820/820 [==============================] - 478s 546ms/step - loss: 7.3173 - categorical_accuracy: 0.0628 - val_loss: 5.4738 - val_categorical_accuracy: 0.1222\n",
            "Epoch 2/30\n",
            "820/820 [==============================] - 439s 535ms/step - loss: 4.0766 - categorical_accuracy: 0.2028 - val_loss: 2.7654 - val_categorical_accuracy: 0.2823\n",
            "Epoch 3/30\n",
            "820/820 [==============================] - 439s 535ms/step - loss: 2.1164 - categorical_accuracy: 0.3152 - val_loss: 1.5902 - val_categorical_accuracy: 0.3449\n",
            "Epoch 4/30\n",
            "820/820 [==============================] - 436s 531ms/step - loss: 1.3649 - categorical_accuracy: 0.3511 - val_loss: 1.2031 - val_categorical_accuracy: 0.3611\n",
            "Epoch 5/30\n",
            "820/820 [==============================] - 441s 537ms/step - loss: 1.1283 - categorical_accuracy: 0.3609 - val_loss: 1.0881 - val_categorical_accuracy: 0.3646\n",
            "Epoch 6/30\n",
            "820/820 [==============================] - 440s 536ms/step - loss: 0.9742 - categorical_accuracy: 0.3701 - val_loss: 0.9522 - val_categorical_accuracy: 0.3745\n",
            "Epoch 7/30\n",
            "820/820 [==============================] - 440s 536ms/step - loss: 0.8587 - categorical_accuracy: 0.3780 - val_loss: 0.8944 - val_categorical_accuracy: 0.3789\n",
            "Epoch 8/30\n",
            "820/820 [==============================] - 439s 535ms/step - loss: 0.7823 - categorical_accuracy: 0.3839 - val_loss: 0.8449 - val_categorical_accuracy: 0.3831\n",
            "Epoch 9/30\n",
            "820/820 [==============================] - 438s 534ms/step - loss: 0.7257 - categorical_accuracy: 0.3884 - val_loss: 0.8257 - val_categorical_accuracy: 0.3852\n",
            "Epoch 10/30\n",
            "820/820 [==============================] - 437s 533ms/step - loss: 0.6787 - categorical_accuracy: 0.3924 - val_loss: 0.8065 - val_categorical_accuracy: 0.3873\n",
            "Epoch 11/30\n",
            "820/820 [==============================] - 440s 536ms/step - loss: 0.6394 - categorical_accuracy: 0.3957 - val_loss: 0.7865 - val_categorical_accuracy: 0.3893\n",
            "Epoch 12/30\n",
            "820/820 [==============================] - 439s 535ms/step - loss: 0.6055 - categorical_accuracy: 0.3989 - val_loss: 0.7654 - val_categorical_accuracy: 0.3900\n",
            "Epoch 13/30\n",
            "820/820 [==============================] - 445s 542ms/step - loss: 0.5747 - categorical_accuracy: 0.4017 - val_loss: 0.7675 - val_categorical_accuracy: 0.3911\n",
            "Epoch 14/30\n",
            "820/820 [==============================] - 440s 536ms/step - loss: 0.5493 - categorical_accuracy: 0.4041 - val_loss: 0.7486 - val_categorical_accuracy: 0.3930\n",
            "Epoch 15/30\n",
            "820/820 [==============================] - 443s 540ms/step - loss: 0.5254 - categorical_accuracy: 0.4065 - val_loss: 0.7483 - val_categorical_accuracy: 0.3937\n",
            "Epoch 16/30\n",
            "820/820 [==============================] - 441s 537ms/step - loss: 0.5045 - categorical_accuracy: 0.4086 - val_loss: 0.7493 - val_categorical_accuracy: 0.3947\n",
            "Epoch 17/30\n",
            "820/820 [==============================] - 439s 535ms/step - loss: 0.4837 - categorical_accuracy: 0.4108 - val_loss: 0.7511 - val_categorical_accuracy: 0.3949\n",
            "Epoch 18/30\n",
            "820/820 [==============================] - 442s 539ms/step - loss: 0.4666 - categorical_accuracy: 0.4125 - val_loss: 0.7426 - val_categorical_accuracy: 0.3950\n"
          ]
        }
      ],
      "source": [
        "keras.utils.set_random_seed(RANDOM_SEED)\n",
        "\n",
        "\n",
        "model.compile(\n",
        "    loss = maskedCategoricalCrossentropy,\n",
        "    optimizer = keras.optimizers.Adam(TransformerScheduler(d_model, warmup_steps=4000), weight_decay=0.1),\n",
        "    # optimizer = keras.optimizers.Adam(\n",
        "    #     keras.optimizers.schedules.CosineDecay(\n",
        "    #         initial_learning_rate = 3e-4,\n",
        "    #         warmup_target = 8e-4,\n",
        "    #         warmup_steps = 1200,\n",
        "    #         decay_steps = 4000,\n",
        "    #         alpha = 1e-5 / 3e-4,\n",
        "    #     )\n",
        "    # ),\n",
        "    metrics = [\"categorical_accuracy\"],\n",
        ")\n",
        "\n",
        "training_hist = model.fit(\n",
        "    train_data,\n",
        "    validation_data = val_data,\n",
        "    epochs = 30,\n",
        "    callbacks = [\n",
        "        keras.callbacks.EarlyStopping(monitor=\"val_loss\", patience=3),\n",
        "        keras.callbacks.ModelCheckpoint(\n",
        "            filepath = \"./checkpoints/epoch{epoch:02d}-vloss{val_loss:.3f}.weights.h5\",\n",
        "            monitor = \"val_loss\",\n",
        "            save_best_only = True,\n",
        "            save_weights_only = True\n",
        "        )\n",
        "    ]\n",
        ")"
      ]
    },
    {
      "cell_type": "code",
      "execution_count": 30,
      "metadata": {
        "colab": {
          "base_uri": "https://localhost:8080/",
          "height": 599
        },
        "id": "maVHGMnb2360",
        "outputId": "928e9812-0380-4cec-fab8-a49d96896312"
      },
      "outputs": [
        {
          "name": "stdout",
          "output_type": "stream",
          "text": [
            "Epoch 1/10\n",
            "820/820 [==============================] - 517s 587ms/step - loss: 0.3669 - categorical_accuracy: 0.4235 - val_loss: 0.7068 - val_categorical_accuracy: 0.4005\n",
            "Epoch 2/10\n",
            "820/820 [==============================] - 462s 563ms/step - loss: 0.3451 - categorical_accuracy: 0.4260 - val_loss: 0.6996 - val_categorical_accuracy: 0.4011\n",
            "Epoch 3/10\n",
            "820/820 [==============================] - 466s 568ms/step - loss: 0.3354 - categorical_accuracy: 0.4271 - val_loss: 0.6953 - val_categorical_accuracy: 0.4017\n",
            "Epoch 4/10\n",
            "820/820 [==============================] - 459s 560ms/step - loss: 0.3283 - categorical_accuracy: 0.4280 - val_loss: 0.6934 - val_categorical_accuracy: 0.4020\n",
            "Epoch 5/10\n",
            "820/820 [==============================] - 459s 560ms/step - loss: 0.3223 - categorical_accuracy: 0.4287 - val_loss: 0.6911 - val_categorical_accuracy: 0.4021\n",
            "Epoch 6/10\n",
            "820/820 [==============================] - 460s 560ms/step - loss: 0.3174 - categorical_accuracy: 0.4293 - val_loss: 0.6902 - val_categorical_accuracy: 0.4024\n"
          ]
        }
      ],
      "source": [
        "keras.utils.set_random_seed(RANDOM_SEED)\n",
        "\n",
        "\n",
        "model.compile(\n",
        "    loss = maskedCategoricalCrossentropy,\n",
        "    optimizer = keras.optimizers.Adam(1e-5),\n",
        "    metrics = [\"categorical_accuracy\"],\n",
        ")\n",
        "\n",
        "training_hist = model.fit(\n",
        "    train_data,\n",
        "    validation_data = val_data,\n",
        "    epochs = 10,\n",
        "    callbacks = [\n",
        "        keras.callbacks.EarlyStopping(monitor=\"val_loss\", patience=3),\n",
        "        keras.callbacks.ModelCheckpoint(\n",
        "            filepath = \"./epoch{epoch:02d}-vloss{val_loss:.3f}.tuned.weights.h5\",\n",
        "            monitor = \"val_loss\",\n",
        "            save_best_only = True,\n",
        "            save_weights_only = True\n",
        "        )\n",
        "    ]\n",
        ")"
      ]
    },
    {
      "cell_type": "markdown",
      "metadata": {
        "id": "H8Rb27vgEHlI"
      },
      "source": [
        "## Evaluation"
      ]
    },
    {
      "cell_type": "markdown",
      "metadata": {
        "id": "k3QhhmZPEHlI"
      },
      "source": [
        "### Determine baseline"
      ]
    },
    {
      "cell_type": "code",
      "execution_count": 13,
      "metadata": {
        "id": "hAYaOFvlEHlI",
        "trusted": true
      },
      "outputs": [
        {
          "name": "stdout",
          "output_type": "stream",
          "text": [
            "0.19211599340579974 +/- 0.056806950636048195\n",
            "Target baseline: 0.36253684531394437\n"
          ]
        }
      ],
      "source": [
        "lcs_score = []\n",
        "baseline_test_generator = DataGenerator(shuffled_data[220000:], batch_size=BATCH_SIZE, seed=RANDOM_SEED)\n",
        "\n",
        "for gen_i in range(len(baseline_test_generator)):\n",
        "    in_tokens, truth_tokens = baseline_test_generator[gen_i]\n",
        "\n",
        "    str_x = detokenizer(in_tokens)\n",
        "    str_y = detokenizer(truth_tokens)\n",
        "    str_x = [ s[8:-6] for s in str_x ]\n",
        "    str_y = [ s[8:-6] for s in str_y ]\n",
        "    # print(str_x, str_y)\n",
        "    for b in range(in_tokens.shape[0]):\n",
        "        lcs_score.append(score(str_y[b], str_x[b]))\n",
        "\n",
        "\n",
        "lcs_mean = np.mean(lcs_score)\n",
        "lcs_std = np.std(lcs_score)\n",
        "print(f\"{lcs_mean} +/- {lcs_std}\")\n",
        "print(\"Target baseline:\", lcs_mean + 3*lcs_std)"
      ]
    },
    {
      "cell_type": "markdown",
      "metadata": {
        "id": "-1zStZqVEHlI"
      },
      "source": [
        "### Model evaluation"
      ]
    },
    {
      "cell_type": "code",
      "execution_count": 32,
      "metadata": {
        "id": "fCB5jfdz2361"
      },
      "outputs": [],
      "source": [
        "def inference(model, shuffled_tokens):\n",
        "    batch_size = shuffled_tokens.shape[0]\n",
        "    pred_sents = [\"\"] * batch_size\n",
        "    autoregressive = np.array([[START_TOKEN] + [PAD_TOKEN] * (SEQ_MAX_LEN-1)] * batch_size)\n",
        "    overflowing_mask = []\n",
        "\n",
        "    for i in range(SEQ_MAX_LEN-1):\n",
        "        out = model.predict_on_batch(( shuffled_tokens, autoregressive ))\n",
        "\n",
        "        for b in range(batch_size):\n",
        "            if len(pred_sents[b]) != 0: continue # Batch entry already generated\n",
        "\n",
        "            pred_token = np.argmax(out[b, i, :])\n",
        "            autoregressive[b, i+1] = pred_token\n",
        "\n",
        "            if pred_token == END_TOKEN:\n",
        "                pred_sents[b] = detokenizer([autoregressive[b]])[0]\n",
        "\n",
        "        if all([ len(s) > 0 for s in pred_sents ]):\n",
        "            break\n",
        "\n",
        "    # Handle sentences without <end>\n",
        "    for b in range(batch_size):\n",
        "        if len(pred_sents[b]) == 0:\n",
        "            pred_sents[b] = detokenizer([autoregressive[b]])[0] + \" <end>\" # Add <end> just for uniformity (will be removed later)\n",
        "            overflowing_mask.append(True)\n",
        "        else:\n",
        "            overflowing_mask.append(False)\n",
        "\n",
        "    return pred_sents, overflowing_mask"
      ]
    },
    {
      "cell_type": "code",
      "execution_count": 33,
      "metadata": {
        "colab": {
          "base_uri": "https://localhost:8080/"
        },
        "id": "yoXYIUDu2362",
        "outputId": "4f493309-21b7-4105-ad41-9875823478aa"
      },
      "outputs": [
        {
          "name": "stderr",
          "output_type": "stream",
          "text": [
            "100%|██████████| 82/82 [14:14<00:00, 10.42s/it, avg_score=0.5117]\n"
          ]
        }
      ],
      "source": [
        "scores = []\n",
        "overflowing_mask = []\n",
        "test_generator = DataGenerator(shuffled_data[220000:], batch_size=BATCH_SIZE, seed=RANDOM_SEED)\n",
        "\n",
        "tqdm_bar = tqdm(range(len(test_generator)))\n",
        "\n",
        "for gen_i in tqdm_bar:\n",
        "    in_tokens, truth_tokens = test_generator[gen_i]\n",
        "\n",
        "    batch_size = truth_tokens.shape[0]\n",
        "    truth_sents = [ detokenizer([truth_tokens[b]])[0] for b in range(batch_size) ]\n",
        "    pred_sents, batch_overflowing_mask = inference(model, in_tokens)\n",
        "    overflowing_mask += batch_overflowing_mask\n",
        "\n",
        "    for b in range(batch_size):\n",
        "        assert pred_sents[b][:8] == \"<start> \" and pred_sents[b][-6:] == \" <end>\"\n",
        "        assert truth_sents[b][:8] == \"<start> \" and truth_sents[b][-6:] == \" <end>\"\n",
        "        pred_sents[b] = pred_sents[b][8:-6]\n",
        "        truth_sents[b] = truth_sents[b][8:-6]\n",
        "\n",
        "        scores.append( score(truth_sents[b], pred_sents[b]) )\n",
        "\n",
        "        if len(pred_sents[b].strip()) == 0:\n",
        "            print(f\"{truth_sents[b]} predicted as empty\")\n",
        "        # print(f\"{scores[-1]} --- |{pred_sents[b]}| --- |{truth_sents[b]}|\")\n",
        "\n",
        "    tqdm_bar.set_postfix({ \"avg_score\": f\"{np.mean(scores):.4f}\" })"
      ]
    },
    {
      "cell_type": "code",
      "execution_count": 34,
      "metadata": {
        "colab": {
          "base_uri": "https://localhost:8080/",
          "height": 349
        },
        "execution": {
          "iopub.execute_input": "2024-06-10T16:50:25.334595Z",
          "iopub.status.busy": "2024-06-10T16:50:25.333739Z",
          "iopub.status.idle": "2024-06-10T16:50:25.341887Z",
          "shell.execute_reply": "2024-06-10T16:50:25.340916Z",
          "shell.execute_reply.started": "2024-06-10T16:50:25.334560Z"
        },
        "id": "5MX8sC9wEHlI",
        "outputId": "87646efd-a136-4b22-da53-f916809cc55a",
        "trusted": true
      },
      "outputs": [
        {
          "name": "stdout",
          "output_type": "stream",
          "text": [
            "Results evaluated on 20992 instances\n",
            "Avg. LCS score: 0.51169\n"
          ]
        },
        {
          "data": {
            "image/png": "[encoded data removed]",
            "text/plain": [
              "<Figure size 600x300 with 1 Axes>"
            ]
          },
          "metadata": {},
          "output_type": "display_data"
        }
      ],
      "source": [
        "print(f\"Results evaluated on {len(scores)} instances\")\n",
        "print(f\"Avg. LCS score: {np.mean(scores):.5f}\")\n",
        "\n",
        "if any(overflowing_mask):\n",
        "    scores_arr = np.array(scores)\n",
        "    overflowing_mask_arr = np.array(overflowing_mask)\n",
        "    scores_arr[overflowing_mask_arr] = 0\n",
        "\n",
        "    print(f\"Avg. LCS score (with {overflowing_mask.count(True)} overflowing instances zeroed): {np.mean(scores_arr):.5f}\")\n",
        "\n",
        "\n",
        "plt.figure(figsize=(6, 3))\n",
        "plt.title(\"Prediction score distribution\")\n",
        "plt.hist(scores, bins=10)\n",
        "plt.show()"
      ]
    }
  ],
  "metadata": {
    "accelerator": "GPU",
    "colab": {
      "gpuType": "T4",
      "provenance": []
    },
    "kaggle": {
      "accelerator": "gpu",
      "dataSources": [],
      "dockerImageVersionId": 30733,
      "isGpuEnabled": true,
      "isInternetEnabled": true,
      "language": "python",
      "sourceType": "notebook"
    },
    "kernelspec": {
      "display_name": "Python 3",
      "language": "python",
      "name": "python3"
    },
    "language_info": {
      "codemirror_mode": {
        "name": "ipython",
        "version": 3
      },
      "file_extension": ".py",
      "mimetype": "text/x-python",
      "name": "python",
      "nbconvert_exporter": "python",
      "pygments_lexer": "ipython3",
      "version": "3.1.-1"
    },
    "widgets": {
      "application/vnd.jupyter.widget-state+json": {
        "00353884674549399d968c8095d9118b": {
          "model_module": "@jupyter-widgets/controls",
          "model_module_version": "1.5.0",
          "model_name": "DescriptionStyleModel",
          "state": {
            "_model_module": "@jupyter-widgets/controls",
            "_model_module_version": "1.5.0",
            "_model_name": "DescriptionStyleModel",
            "_view_count": null,
            "_view_module": "@jupyter-widgets/base",
            "_view_module_version": "1.2.0",
            "_view_name": "StyleView",
            "description_width": ""
          }
        },
        "00dd52ef3b6c429ab6a838111b81d800": {
          "model_module": "@jupyter-widgets/base",
          "model_module_version": "1.2.0",
          "model_name": "LayoutModel",
          "state": {
            "_model_module": "@jupyter-widgets/base",
            "_model_module_version": "1.2.0",
            "_model_name": "LayoutModel",
            "_view_count": null,
            "_view_module": "@jupyter-widgets/base",
            "_view_module_version": "1.2.0",
            "_view_name": "LayoutView",
            "align_content": null,
            "align_items": null,
            "align_self": null,
            "border": null,
            "bottom": null,
            "display": null,
            "flex": null,
            "flex_flow": null,
            "grid_area": null,
            "grid_auto_columns": null,
            "grid_auto_flow": null,
            "grid_auto_rows": null,
            "grid_column": null,
            "grid_gap": null,
            "grid_row": null,
            "grid_template_areas": null,
            "grid_template_columns": null,
            "grid_template_rows": null,
            "height": null,
            "justify_content": null,
            "justify_items": null,
            "left": null,
            "margin": null,
            "max_height": null,
            "max_width": null,
            "min_height": null,
            "min_width": null,
            "object_fit": null,
            "object_position": null,
            "order": null,
            "overflow": null,
            "overflow_x": null,
            "overflow_y": null,
            "padding": null,
            "right": null,
            "top": null,
            "visibility": null,
            "width": null
          }
        },
        "0156158385774f1a86899f6f9206ad7d": {
          "model_module": "@jupyter-widgets/controls",
          "model_module_version": "1.5.0",
          "model_name": "HTMLModel",
          "state": {
            "_dom_classes": [],
            "_model_module": "@jupyter-widgets/controls",
            "_model_module_version": "1.5.0",
            "_model_name": "HTMLModel",
            "_view_count": null,
            "_view_module": "@jupyter-widgets/controls",
            "_view_module_version": "1.5.0",
            "_view_name": "HTMLView",
            "description": "",
            "description_tooltip": null,
            "layout": "IPY_MODEL_aacf5bbac7f34421a19047a6bef20772",
            "placeholder": "​",
            "style": "IPY_MODEL_3c28a6c35d434f009658ffdcfddaa3ad",
            "value": " 8.64k/8.64k [00:00&lt;00:00, 416kB/s]"
          }
        },
        "07d2274e1d7949a0b386078880e9e271": {
          "model_module": "@jupyter-widgets/controls",
          "model_module_version": "1.5.0",
          "model_name": "HTMLModel",
          "state": {
            "_dom_classes": [],
            "_model_module": "@jupyter-widgets/controls",
            "_model_module_version": "1.5.0",
            "_model_name": "HTMLModel",
            "_view_count": null,
            "_view_module": "@jupyter-widgets/controls",
            "_view_module_version": "1.5.0",
            "_view_name": "HTMLView",
            "description": "",
            "description_tooltip": null,
            "layout": "IPY_MODEL_742fabe3a98645889887fc1da94b0d7c",
            "placeholder": "​",
            "style": "IPY_MODEL_00353884674549399d968c8095d9118b",
            "value": "Downloading data: 100%"
          }
        },
        "0c409b03de424bce9286a492443f8599": {
          "model_module": "@jupyter-widgets/controls",
          "model_module_version": "1.5.0",
          "model_name": "HTMLModel",
          "state": {
            "_dom_classes": [],
            "_model_module": "@jupyter-widgets/controls",
            "_model_module_version": "1.5.0",
            "_model_name": "HTMLModel",
            "_view_count": null,
            "_view_module": "@jupyter-widgets/controls",
            "_view_module_version": "1.5.0",
            "_view_name": "HTMLView",
            "description": "",
            "description_tooltip": null,
            "layout": "IPY_MODEL_6ef91bf9e41e4289a7d209397d8dcfcb",
            "placeholder": "​",
            "style": "IPY_MODEL_acd6c866c7bc4beb9740188d67faed6d",
            "value": " 11.9k/11.9k [00:00&lt;00:00, 912kB/s]"
          }
        },
        "0dd5384219a74a7b8d3afe3818bf0aa2": {
          "model_module": "@jupyter-widgets/controls",
          "model_module_version": "1.5.0",
          "model_name": "HTMLModel",
          "state": {
            "_dom_classes": [],
            "_model_module": "@jupyter-widgets/controls",
            "_model_module_version": "1.5.0",
            "_model_name": "HTMLModel",
            "_view_count": null,
            "_view_module": "@jupyter-widgets/controls",
            "_view_module_version": "1.5.0",
            "_view_name": "HTMLView",
            "description": "",
            "description_tooltip": null,
            "layout": "IPY_MODEL_12dc35ac699d4f8b8dc03d85a7653765",
            "placeholder": "​",
            "style": "IPY_MODEL_c5e02f675b8242df95b66dcc06cc4b0c",
            "value": " 1020868/1020868 [01:18&lt;00:00, 18778.64 examples/s]"
          }
        },
        "1042f0aee5454fa3855c6cc5ace059e2": {
          "model_module": "@jupyter-widgets/controls",
          "model_module_version": "1.5.0",
          "model_name": "HBoxModel",
          "state": {
            "_dom_classes": [],
            "_model_module": "@jupyter-widgets/controls",
            "_model_module_version": "1.5.0",
            "_model_name": "HBoxModel",
            "_view_count": null,
            "_view_module": "@jupyter-widgets/controls",
            "_view_module_version": "1.5.0",
            "_view_name": "HBoxView",
            "box_style": "",
            "children": [
              "IPY_MODEL_ab7e77d3ba884dcfb61d2856e067b4d7",
              "IPY_MODEL_d318b8f5aa0849d697b12e377bbdd525",
              "IPY_MODEL_0156158385774f1a86899f6f9206ad7d"
            ],
            "layout": "IPY_MODEL_235eaa3ebf7f4d49baf24be8c60fb096"
          }
        },
        "12dc35ac699d4f8b8dc03d85a7653765": {
          "model_module": "@jupyter-widgets/base",
          "model_module_version": "1.2.0",
          "model_name": "LayoutModel",
          "state": {
            "_model_module": "@jupyter-widgets/base",
            "_model_module_version": "1.2.0",
            "_model_name": "LayoutModel",
            "_view_count": null,
            "_view_module": "@jupyter-widgets/base",
            "_view_module_version": "1.2.0",
            "_view_name": "LayoutView",
            "align_content": null,
            "align_items": null,
            "align_self": null,
            "border": null,
            "bottom": null,
            "display": null,
            "flex": null,
            "flex_flow": null,
            "grid_area": null,
            "grid_auto_columns": null,
            "grid_auto_flow": null,
            "grid_auto_rows": null,
            "grid_column": null,
            "grid_gap": null,
            "grid_row": null,
            "grid_template_areas": null,
            "grid_template_columns": null,
            "grid_template_rows": null,
            "height": null,
            "justify_content": null,
            "justify_items": null,
            "left": null,
            "margin": null,
            "max_height": null,
            "max_width": null,
            "min_height": null,
            "min_width": null,
            "object_fit": null,
            "object_position": null,
            "order": null,
            "overflow": null,
            "overflow_x": null,
            "overflow_y": null,
            "padding": null,
            "right": null,
            "top": null,
            "visibility": null,
            "width": null
          }
        },
        "2016753d2c8f4c27bef40b918bc17dbb": {
          "model_module": "@jupyter-widgets/controls",
          "model_module_version": "1.5.0",
          "model_name": "HTMLModel",
          "state": {
            "_dom_classes": [],
            "_model_module": "@jupyter-widgets/controls",
            "_model_module_version": "1.5.0",
            "_model_name": "HTMLModel",
            "_view_count": null,
            "_view_module": "@jupyter-widgets/controls",
            "_view_module_version": "1.5.0",
            "_view_name": "HTMLView",
            "description": "",
            "description_tooltip": null,
            "layout": "IPY_MODEL_dd1d9c586ba9416098b15592e4d99891",
            "placeholder": "​",
            "style": "IPY_MODEL_f987dbf2a48d40ddac336560b29c8e6b",
            "value": "Filter: 100%"
          }
        },
        "21f462aeddad4fd5a84b93715090c2b5": {
          "model_module": "@jupyter-widgets/controls",
          "model_module_version": "1.5.0",
          "model_name": "HBoxModel",
          "state": {
            "_dom_classes": [],
            "_model_module": "@jupyter-widgets/controls",
            "_model_module_version": "1.5.0",
            "_model_name": "HBoxModel",
            "_view_count": null,
            "_view_module": "@jupyter-widgets/controls",
            "_view_module_version": "1.5.0",
            "_view_name": "HBoxView",
            "box_style": "",
            "children": [
              "IPY_MODEL_07d2274e1d7949a0b386078880e9e271",
              "IPY_MODEL_3e531964803043598782fbbd5c7ac9d5",
              "IPY_MODEL_59d6d53d85a742b48019e9049a70bc88"
            ],
            "layout": "IPY_MODEL_93efb9821b6d416dbefcc88d2f80f410"
          }
        },
        "235eaa3ebf7f4d49baf24be8c60fb096": {
          "model_module": "@jupyter-widgets/base",
          "model_module_version": "1.2.0",
          "model_name": "LayoutModel",
          "state": {
            "_model_module": "@jupyter-widgets/base",
            "_model_module_version": "1.2.0",
            "_model_name": "LayoutModel",
            "_view_count": null,
            "_view_module": "@jupyter-widgets/base",
            "_view_module_version": "1.2.0",
            "_view_name": "LayoutView",
            "align_content": null,
            "align_items": null,
            "align_self": null,
            "border": null,
            "bottom": null,
            "display": null,
            "flex": null,
            "flex_flow": null,
            "grid_area": null,
            "grid_auto_columns": null,
            "grid_auto_flow": null,
            "grid_auto_rows": null,
            "grid_column": null,
            "grid_gap": null,
            "grid_row": null,
            "grid_template_areas": null,
            "grid_template_columns": null,
            "grid_template_rows": null,
            "height": null,
            "justify_content": null,
            "justify_items": null,
            "left": null,
            "margin": null,
            "max_height": null,
            "max_width": null,
            "min_height": null,
            "min_width": null,
            "object_fit": null,
            "object_position": null,
            "order": null,
            "overflow": null,
            "overflow_x": null,
            "overflow_y": null,
            "padding": null,
            "right": null,
            "top": null,
            "visibility": null,
            "width": null
          }
        },
        "248cface63c84e3e86850bdab42dd2d0": {
          "model_module": "@jupyter-widgets/controls",
          "model_module_version": "1.5.0",
          "model_name": "DescriptionStyleModel",
          "state": {
            "_model_module": "@jupyter-widgets/controls",
            "_model_module_version": "1.5.0",
            "_model_name": "DescriptionStyleModel",
            "_view_count": null,
            "_view_module": "@jupyter-widgets/base",
            "_view_module_version": "1.2.0",
            "_view_name": "StyleView",
            "description_width": ""
          }
        },
        "27b3fb2f57204e19984f8cbe85be756c": {
          "model_module": "@jupyter-widgets/controls",
          "model_module_version": "1.5.0",
          "model_name": "ProgressStyleModel",
          "state": {
            "_model_module": "@jupyter-widgets/controls",
            "_model_module_version": "1.5.0",
            "_model_name": "ProgressStyleModel",
            "_view_count": null,
            "_view_module": "@jupyter-widgets/base",
            "_view_module_version": "1.2.0",
            "_view_name": "StyleView",
            "bar_color": null,
            "description_width": ""
          }
        },
        "2f1936e3d3b34395977d5a29f5679e43": {
          "model_module": "@jupyter-widgets/controls",
          "model_module_version": "1.5.0",
          "model_name": "HTMLModel",
          "state": {
            "_dom_classes": [],
            "_model_module": "@jupyter-widgets/controls",
            "_model_module_version": "1.5.0",
            "_model_name": "HTMLModel",
            "_view_count": null,
            "_view_module": "@jupyter-widgets/controls",
            "_view_module_version": "1.5.0",
            "_view_name": "HTMLView",
            "description": "",
            "description_tooltip": null,
            "layout": "IPY_MODEL_925f242d7cf44e0d96d5e1af1ff61988",
            "placeholder": "​",
            "style": "IPY_MODEL_d023c9287a9c49e7b9bca695b7b892d1",
            "value": "Generating train split: 100%"
          }
        },
        "3c28a6c35d434f009658ffdcfddaa3ad": {
          "model_module": "@jupyter-widgets/controls",
          "model_module_version": "1.5.0",
          "model_name": "DescriptionStyleModel",
          "state": {
            "_model_module": "@jupyter-widgets/controls",
            "_model_module_version": "1.5.0",
            "_model_name": "DescriptionStyleModel",
            "_view_count": null,
            "_view_module": "@jupyter-widgets/base",
            "_view_module_version": "1.2.0",
            "_view_name": "StyleView",
            "description_width": ""
          }
        },
        "3e531964803043598782fbbd5c7ac9d5": {
          "model_module": "@jupyter-widgets/controls",
          "model_module_version": "1.5.0",
          "model_name": "FloatProgressModel",
          "state": {
            "_dom_classes": [],
            "_model_module": "@jupyter-widgets/controls",
            "_model_module_version": "1.5.0",
            "_model_name": "FloatProgressModel",
            "_view_count": null,
            "_view_module": "@jupyter-widgets/controls",
            "_view_module_version": "1.5.0",
            "_view_name": "ProgressView",
            "bar_style": "success",
            "description": "",
            "description_tooltip": null,
            "layout": "IPY_MODEL_4c5e3050640d42a4884ebfbea9ad50fd",
            "max": 27147920,
            "min": 0,
            "orientation": "horizontal",
            "style": "IPY_MODEL_27b3fb2f57204e19984f8cbe85be756c",
            "value": 27147920
          }
        },
        "4ba3a219f4e345d496c57ecaf42753c7": {
          "model_module": "@jupyter-widgets/controls",
          "model_module_version": "1.5.0",
          "model_name": "HTMLModel",
          "state": {
            "_dom_classes": [],
            "_model_module": "@jupyter-widgets/controls",
            "_model_module_version": "1.5.0",
            "_model_name": "HTMLModel",
            "_view_count": null,
            "_view_module": "@jupyter-widgets/controls",
            "_view_module_version": "1.5.0",
            "_view_name": "HTMLView",
            "description": "",
            "description_tooltip": null,
            "layout": "IPY_MODEL_58eb863a178243e6b285ae5037b7a69b",
            "placeholder": "​",
            "style": "IPY_MODEL_c428be995cc9480b98a1650687b8130e",
            "value": " 1020868/1020868 [00:08&lt;00:00, 132323.26 examples/s]"
          }
        },
        "4c5e3050640d42a4884ebfbea9ad50fd": {
          "model_module": "@jupyter-widgets/base",
          "model_module_version": "1.2.0",
          "model_name": "LayoutModel",
          "state": {
            "_model_module": "@jupyter-widgets/base",
            "_model_module_version": "1.2.0",
            "_model_name": "LayoutModel",
            "_view_count": null,
            "_view_module": "@jupyter-widgets/base",
            "_view_module_version": "1.2.0",
            "_view_name": "LayoutView",
            "align_content": null,
            "align_items": null,
            "align_self": null,
            "border": null,
            "bottom": null,
            "display": null,
            "flex": null,
            "flex_flow": null,
            "grid_area": null,
            "grid_auto_columns": null,
            "grid_auto_flow": null,
            "grid_auto_rows": null,
            "grid_column": null,
            "grid_gap": null,
            "grid_row": null,
            "grid_template_areas": null,
            "grid_template_columns": null,
            "grid_template_rows": null,
            "height": null,
            "justify_content": null,
            "justify_items": null,
            "left": null,
            "margin": null,
            "max_height": null,
            "max_width": null,
            "min_height": null,
            "min_width": null,
            "object_fit": null,
            "object_position": null,
            "order": null,
            "overflow": null,
            "overflow_x": null,
            "overflow_y": null,
            "padding": null,
            "right": null,
            "top": null,
            "visibility": null,
            "width": null
          }
        },
        "54871866d29f42948e3404d1cd1ca5b6": {
          "model_module": "@jupyter-widgets/base",
          "model_module_version": "1.2.0",
          "model_name": "LayoutModel",
          "state": {
            "_model_module": "@jupyter-widgets/base",
            "_model_module_version": "1.2.0",
            "_model_name": "LayoutModel",
            "_view_count": null,
            "_view_module": "@jupyter-widgets/base",
            "_view_module_version": "1.2.0",
            "_view_name": "LayoutView",
            "align_content": null,
            "align_items": null,
            "align_self": null,
            "border": null,
            "bottom": null,
            "display": null,
            "flex": null,
            "flex_flow": null,
            "grid_area": null,
            "grid_auto_columns": null,
            "grid_auto_flow": null,
            "grid_auto_rows": null,
            "grid_column": null,
            "grid_gap": null,
            "grid_row": null,
            "grid_template_areas": null,
            "grid_template_columns": null,
            "grid_template_rows": null,
            "height": null,
            "justify_content": null,
            "justify_items": null,
            "left": null,
            "margin": null,
            "max_height": null,
            "max_width": null,
            "min_height": null,
            "min_width": null,
            "object_fit": null,
            "object_position": null,
            "order": null,
            "overflow": null,
            "overflow_x": null,
            "overflow_y": null,
            "padding": null,
            "right": null,
            "top": null,
            "visibility": null,
            "width": null
          }
        },
        "58eb863a178243e6b285ae5037b7a69b": {
          "model_module": "@jupyter-widgets/base",
          "model_module_version": "1.2.0",
          "model_name": "LayoutModel",
          "state": {
            "_model_module": "@jupyter-widgets/base",
            "_model_module_version": "1.2.0",
            "_model_name": "LayoutModel",
            "_view_count": null,
            "_view_module": "@jupyter-widgets/base",
            "_view_module_version": "1.2.0",
            "_view_name": "LayoutView",
            "align_content": null,
            "align_items": null,
            "align_self": null,
            "border": null,
            "bottom": null,
            "display": null,
            "flex": null,
            "flex_flow": null,
            "grid_area": null,
            "grid_auto_columns": null,
            "grid_auto_flow": null,
            "grid_auto_rows": null,
            "grid_column": null,
            "grid_gap": null,
            "grid_row": null,
            "grid_template_areas": null,
            "grid_template_columns": null,
            "grid_template_rows": null,
            "height": null,
            "justify_content": null,
            "justify_items": null,
            "left": null,
            "margin": null,
            "max_height": null,
            "max_width": null,
            "min_height": null,
            "min_width": null,
            "object_fit": null,
            "object_position": null,
            "order": null,
            "overflow": null,
            "overflow_x": null,
            "overflow_y": null,
            "padding": null,
            "right": null,
            "top": null,
            "visibility": null,
            "width": null
          }
        },
        "59d6d53d85a742b48019e9049a70bc88": {
          "model_module": "@jupyter-widgets/controls",
          "model_module_version": "1.5.0",
          "model_name": "HTMLModel",
          "state": {
            "_dom_classes": [],
            "_model_module": "@jupyter-widgets/controls",
            "_model_module_version": "1.5.0",
            "_model_name": "HTMLModel",
            "_view_count": null,
            "_view_module": "@jupyter-widgets/controls",
            "_view_module_version": "1.5.0",
            "_view_name": "HTMLView",
            "description": "",
            "description_tooltip": null,
            "layout": "IPY_MODEL_85a029b2784341dea775f3270b6df036",
            "placeholder": "​",
            "style": "IPY_MODEL_73e2155a0a8144108e5909d713718041",
            "value": " 27.1M/27.1M [00:00&lt;00:00, 34.7MB/s]"
          }
        },
        "5a6ef4f6678148ed81fc6ad8a16d4afe": {
          "model_module": "@jupyter-widgets/controls",
          "model_module_version": "1.5.0",
          "model_name": "HBoxModel",
          "state": {
            "_dom_classes": [],
            "_model_module": "@jupyter-widgets/controls",
            "_model_module_version": "1.5.0",
            "_model_name": "HBoxModel",
            "_view_count": null,
            "_view_module": "@jupyter-widgets/controls",
            "_view_module_version": "1.5.0",
            "_view_name": "HBoxView",
            "box_style": "",
            "children": [
              "IPY_MODEL_2016753d2c8f4c27bef40b918bc17dbb",
              "IPY_MODEL_9371153e34aa412fb591df036021fb48",
              "IPY_MODEL_4ba3a219f4e345d496c57ecaf42753c7"
            ],
            "layout": "IPY_MODEL_c61976506bbe4659a5e5df6a448c8dd9"
          }
        },
        "5c7a285a46c04ce6b71cf8a1bc358572": {
          "model_module": "@jupyter-widgets/base",
          "model_module_version": "1.2.0",
          "model_name": "LayoutModel",
          "state": {
            "_model_module": "@jupyter-widgets/base",
            "_model_module_version": "1.2.0",
            "_model_name": "LayoutModel",
            "_view_count": null,
            "_view_module": "@jupyter-widgets/base",
            "_view_module_version": "1.2.0",
            "_view_name": "LayoutView",
            "align_content": null,
            "align_items": null,
            "align_self": null,
            "border": null,
            "bottom": null,
            "display": null,
            "flex": null,
            "flex_flow": null,
            "grid_area": null,
            "grid_auto_columns": null,
            "grid_auto_flow": null,
            "grid_auto_rows": null,
            "grid_column": null,
            "grid_gap": null,
            "grid_row": null,
            "grid_template_areas": null,
            "grid_template_columns": null,
            "grid_template_rows": null,
            "height": null,
            "justify_content": null,
            "justify_items": null,
            "left": null,
            "margin": null,
            "max_height": null,
            "max_width": null,
            "min_height": null,
            "min_width": null,
            "object_fit": null,
            "object_position": null,
            "order": null,
            "overflow": null,
            "overflow_x": null,
            "overflow_y": null,
            "padding": null,
            "right": null,
            "top": null,
            "visibility": null,
            "width": null
          }
        },
        "5e6e9b84bb43433e8182e4459bfedce8": {
          "model_module": "@jupyter-widgets/controls",
          "model_module_version": "1.5.0",
          "model_name": "HBoxModel",
          "state": {
            "_dom_classes": [],
            "_model_module": "@jupyter-widgets/controls",
            "_model_module_version": "1.5.0",
            "_model_name": "HBoxModel",
            "_view_count": null,
            "_view_module": "@jupyter-widgets/controls",
            "_view_module_version": "1.5.0",
            "_view_name": "HBoxView",
            "box_style": "",
            "children": [
              "IPY_MODEL_2f1936e3d3b34395977d5a29f5679e43",
              "IPY_MODEL_75a0b9c6ec0f4394acc98d7a08d1e4b7",
              "IPY_MODEL_0dd5384219a74a7b8d3afe3818bf0aa2"
            ],
            "layout": "IPY_MODEL_7528f54a1d0044729a7d1e9fa8b2cb21"
          }
        },
        "65aa8a83202b4986ad8c2207b318d6f6": {
          "model_module": "@jupyter-widgets/controls",
          "model_module_version": "1.5.0",
          "model_name": "ProgressStyleModel",
          "state": {
            "_model_module": "@jupyter-widgets/controls",
            "_model_module_version": "1.5.0",
            "_model_name": "ProgressStyleModel",
            "_view_count": null,
            "_view_module": "@jupyter-widgets/base",
            "_view_module_version": "1.2.0",
            "_view_name": "StyleView",
            "bar_color": null,
            "description_width": ""
          }
        },
        "6ef91bf9e41e4289a7d209397d8dcfcb": {
          "model_module": "@jupyter-widgets/base",
          "model_module_version": "1.2.0",
          "model_name": "LayoutModel",
          "state": {
            "_model_module": "@jupyter-widgets/base",
            "_model_module_version": "1.2.0",
            "_model_name": "LayoutModel",
            "_view_count": null,
            "_view_module": "@jupyter-widgets/base",
            "_view_module_version": "1.2.0",
            "_view_name": "LayoutView",
            "align_content": null,
            "align_items": null,
            "align_self": null,
            "border": null,
            "bottom": null,
            "display": null,
            "flex": null,
            "flex_flow": null,
            "grid_area": null,
            "grid_auto_columns": null,
            "grid_auto_flow": null,
            "grid_auto_rows": null,
            "grid_column": null,
            "grid_gap": null,
            "grid_row": null,
            "grid_template_areas": null,
            "grid_template_columns": null,
            "grid_template_rows": null,
            "height": null,
            "justify_content": null,
            "justify_items": null,
            "left": null,
            "margin": null,
            "max_height": null,
            "max_width": null,
            "min_height": null,
            "min_width": null,
            "object_fit": null,
            "object_position": null,
            "order": null,
            "overflow": null,
            "overflow_x": null,
            "overflow_y": null,
            "padding": null,
            "right": null,
            "top": null,
            "visibility": null,
            "width": null
          }
        },
        "73e2155a0a8144108e5909d713718041": {
          "model_module": "@jupyter-widgets/controls",
          "model_module_version": "1.5.0",
          "model_name": "DescriptionStyleModel",
          "state": {
            "_model_module": "@jupyter-widgets/controls",
            "_model_module_version": "1.5.0",
            "_model_name": "DescriptionStyleModel",
            "_view_count": null,
            "_view_module": "@jupyter-widgets/base",
            "_view_module_version": "1.2.0",
            "_view_name": "StyleView",
            "description_width": ""
          }
        },
        "742fabe3a98645889887fc1da94b0d7c": {
          "model_module": "@jupyter-widgets/base",
          "model_module_version": "1.2.0",
          "model_name": "LayoutModel",
          "state": {
            "_model_module": "@jupyter-widgets/base",
            "_model_module_version": "1.2.0",
            "_model_name": "LayoutModel",
            "_view_count": null,
            "_view_module": "@jupyter-widgets/base",
            "_view_module_version": "1.2.0",
            "_view_name": "LayoutView",
            "align_content": null,
            "align_items": null,
            "align_self": null,
            "border": null,
            "bottom": null,
            "display": null,
            "flex": null,
            "flex_flow": null,
            "grid_area": null,
            "grid_auto_columns": null,
            "grid_auto_flow": null,
            "grid_auto_rows": null,
            "grid_column": null,
            "grid_gap": null,
            "grid_row": null,
            "grid_template_areas": null,
            "grid_template_columns": null,
            "grid_template_rows": null,
            "height": null,
            "justify_content": null,
            "justify_items": null,
            "left": null,
            "margin": null,
            "max_height": null,
            "max_width": null,
            "min_height": null,
            "min_width": null,
            "object_fit": null,
            "object_position": null,
            "order": null,
            "overflow": null,
            "overflow_x": null,
            "overflow_y": null,
            "padding": null,
            "right": null,
            "top": null,
            "visibility": null,
            "width": null
          }
        },
        "7528f54a1d0044729a7d1e9fa8b2cb21": {
          "model_module": "@jupyter-widgets/base",
          "model_module_version": "1.2.0",
          "model_name": "LayoutModel",
          "state": {
            "_model_module": "@jupyter-widgets/base",
            "_model_module_version": "1.2.0",
            "_model_name": "LayoutModel",
            "_view_count": null,
            "_view_module": "@jupyter-widgets/base",
            "_view_module_version": "1.2.0",
            "_view_name": "LayoutView",
            "align_content": null,
            "align_items": null,
            "align_self": null,
            "border": null,
            "bottom": null,
            "display": null,
            "flex": null,
            "flex_flow": null,
            "grid_area": null,
            "grid_auto_columns": null,
            "grid_auto_flow": null,
            "grid_auto_rows": null,
            "grid_column": null,
            "grid_gap": null,
            "grid_row": null,
            "grid_template_areas": null,
            "grid_template_columns": null,
            "grid_template_rows": null,
            "height": null,
            "justify_content": null,
            "justify_items": null,
            "left": null,
            "margin": null,
            "max_height": null,
            "max_width": null,
            "min_height": null,
            "min_width": null,
            "object_fit": null,
            "object_position": null,
            "order": null,
            "overflow": null,
            "overflow_x": null,
            "overflow_y": null,
            "padding": null,
            "right": null,
            "top": null,
            "visibility": null,
            "width": null
          }
        },
        "75a0b9c6ec0f4394acc98d7a08d1e4b7": {
          "model_module": "@jupyter-widgets/controls",
          "model_module_version": "1.5.0",
          "model_name": "FloatProgressModel",
          "state": {
            "_dom_classes": [],
            "_model_module": "@jupyter-widgets/controls",
            "_model_module_version": "1.5.0",
            "_model_name": "FloatProgressModel",
            "_view_count": null,
            "_view_module": "@jupyter-widgets/controls",
            "_view_module_version": "1.5.0",
            "_view_name": "ProgressView",
            "bar_style": "success",
            "description": "",
            "description_tooltip": null,
            "layout": "IPY_MODEL_904edc465cbe4089850d6c6834fe7dd8",
            "max": 1020868,
            "min": 0,
            "orientation": "horizontal",
            "style": "IPY_MODEL_65aa8a83202b4986ad8c2207b318d6f6",
            "value": 1020868
          }
        },
        "85a029b2784341dea775f3270b6df036": {
          "model_module": "@jupyter-widgets/base",
          "model_module_version": "1.2.0",
          "model_name": "LayoutModel",
          "state": {
            "_model_module": "@jupyter-widgets/base",
            "_model_module_version": "1.2.0",
            "_model_name": "LayoutModel",
            "_view_count": null,
            "_view_module": "@jupyter-widgets/base",
            "_view_module_version": "1.2.0",
            "_view_name": "LayoutView",
            "align_content": null,
            "align_items": null,
            "align_self": null,
            "border": null,
            "bottom": null,
            "display": null,
            "flex": null,
            "flex_flow": null,
            "grid_area": null,
            "grid_auto_columns": null,
            "grid_auto_flow": null,
            "grid_auto_rows": null,
            "grid_column": null,
            "grid_gap": null,
            "grid_row": null,
            "grid_template_areas": null,
            "grid_template_columns": null,
            "grid_template_rows": null,
            "height": null,
            "justify_content": null,
            "justify_items": null,
            "left": null,
            "margin": null,
            "max_height": null,
            "max_width": null,
            "min_height": null,
            "min_width": null,
            "object_fit": null,
            "object_position": null,
            "order": null,
            "overflow": null,
            "overflow_x": null,
            "overflow_y": null,
            "padding": null,
            "right": null,
            "top": null,
            "visibility": null,
            "width": null
          }
        },
        "904edc465cbe4089850d6c6834fe7dd8": {
          "model_module": "@jupyter-widgets/base",
          "model_module_version": "1.2.0",
          "model_name": "LayoutModel",
          "state": {
            "_model_module": "@jupyter-widgets/base",
            "_model_module_version": "1.2.0",
            "_model_name": "LayoutModel",
            "_view_count": null,
            "_view_module": "@jupyter-widgets/base",
            "_view_module_version": "1.2.0",
            "_view_name": "LayoutView",
            "align_content": null,
            "align_items": null,
            "align_self": null,
            "border": null,
            "bottom": null,
            "display": null,
            "flex": null,
            "flex_flow": null,
            "grid_area": null,
            "grid_auto_columns": null,
            "grid_auto_flow": null,
            "grid_auto_rows": null,
            "grid_column": null,
            "grid_gap": null,
            "grid_row": null,
            "grid_template_areas": null,
            "grid_template_columns": null,
            "grid_template_rows": null,
            "height": null,
            "justify_content": null,
            "justify_items": null,
            "left": null,
            "margin": null,
            "max_height": null,
            "max_width": null,
            "min_height": null,
            "min_width": null,
            "object_fit": null,
            "object_position": null,
            "order": null,
            "overflow": null,
            "overflow_x": null,
            "overflow_y": null,
            "padding": null,
            "right": null,
            "top": null,
            "visibility": null,
            "width": null
          }
        },
        "925f242d7cf44e0d96d5e1af1ff61988": {
          "model_module": "@jupyter-widgets/base",
          "model_module_version": "1.2.0",
          "model_name": "LayoutModel",
          "state": {
            "_model_module": "@jupyter-widgets/base",
            "_model_module_version": "1.2.0",
            "_model_name": "LayoutModel",
            "_view_count": null,
            "_view_module": "@jupyter-widgets/base",
            "_view_module_version": "1.2.0",
            "_view_name": "LayoutView",
            "align_content": null,
            "align_items": null,
            "align_self": null,
            "border": null,
            "bottom": null,
            "display": null,
            "flex": null,
            "flex_flow": null,
            "grid_area": null,
            "grid_auto_columns": null,
            "grid_auto_flow": null,
            "grid_auto_rows": null,
            "grid_column": null,
            "grid_gap": null,
            "grid_row": null,
            "grid_template_areas": null,
            "grid_template_columns": null,
            "grid_template_rows": null,
            "height": null,
            "justify_content": null,
            "justify_items": null,
            "left": null,
            "margin": null,
            "max_height": null,
            "max_width": null,
            "min_height": null,
            "min_width": null,
            "object_fit": null,
            "object_position": null,
            "order": null,
            "overflow": null,
            "overflow_x": null,
            "overflow_y": null,
            "padding": null,
            "right": null,
            "top": null,
            "visibility": null,
            "width": null
          }
        },
        "9371153e34aa412fb591df036021fb48": {
          "model_module": "@jupyter-widgets/controls",
          "model_module_version": "1.5.0",
          "model_name": "FloatProgressModel",
          "state": {
            "_dom_classes": [],
            "_model_module": "@jupyter-widgets/controls",
            "_model_module_version": "1.5.0",
            "_model_name": "FloatProgressModel",
            "_view_count": null,
            "_view_module": "@jupyter-widgets/controls",
            "_view_module_version": "1.5.0",
            "_view_name": "ProgressView",
            "bar_style": "success",
            "description": "",
            "description_tooltip": null,
            "layout": "IPY_MODEL_a944d8c2cabd4948986816ff7c67f3b4",
            "max": 1020868,
            "min": 0,
            "orientation": "horizontal",
            "style": "IPY_MODEL_bfe0454586b346639622cc3e33796c64",
            "value": 1020868
          }
        },
        "93efb9821b6d416dbefcc88d2f80f410": {
          "model_module": "@jupyter-widgets/base",
          "model_module_version": "1.2.0",
          "model_name": "LayoutModel",
          "state": {
            "_model_module": "@jupyter-widgets/base",
            "_model_module_version": "1.2.0",
            "_model_name": "LayoutModel",
            "_view_count": null,
            "_view_module": "@jupyter-widgets/base",
            "_view_module_version": "1.2.0",
            "_view_name": "LayoutView",
            "align_content": null,
            "align_items": null,
            "align_self": null,
            "border": null,
            "bottom": null,
            "display": null,
            "flex": null,
            "flex_flow": null,
            "grid_area": null,
            "grid_auto_columns": null,
            "grid_auto_flow": null,
            "grid_auto_rows": null,
            "grid_column": null,
            "grid_gap": null,
            "grid_row": null,
            "grid_template_areas": null,
            "grid_template_columns": null,
            "grid_template_rows": null,
            "height": null,
            "justify_content": null,
            "justify_items": null,
            "left": null,
            "margin": null,
            "max_height": null,
            "max_width": null,
            "min_height": null,
            "min_width": null,
            "object_fit": null,
            "object_position": null,
            "order": null,
            "overflow": null,
            "overflow_x": null,
            "overflow_y": null,
            "padding": null,
            "right": null,
            "top": null,
            "visibility": null,
            "width": null
          }
        },
        "a944d8c2cabd4948986816ff7c67f3b4": {
          "model_module": "@jupyter-widgets/base",
          "model_module_version": "1.2.0",
          "model_name": "LayoutModel",
          "state": {
            "_model_module": "@jupyter-widgets/base",
            "_model_module_version": "1.2.0",
            "_model_name": "LayoutModel",
            "_view_count": null,
            "_view_module": "@jupyter-widgets/base",
            "_view_module_version": "1.2.0",
            "_view_name": "LayoutView",
            "align_content": null,
            "align_items": null,
            "align_self": null,
            "border": null,
            "bottom": null,
            "display": null,
            "flex": null,
            "flex_flow": null,
            "grid_area": null,
            "grid_auto_columns": null,
            "grid_auto_flow": null,
            "grid_auto_rows": null,
            "grid_column": null,
            "grid_gap": null,
            "grid_row": null,
            "grid_template_areas": null,
            "grid_template_columns": null,
            "grid_template_rows": null,
            "height": null,
            "justify_content": null,
            "justify_items": null,
            "left": null,
            "margin": null,
            "max_height": null,
            "max_width": null,
            "min_height": null,
            "min_width": null,
            "object_fit": null,
            "object_position": null,
            "order": null,
            "overflow": null,
            "overflow_x": null,
            "overflow_y": null,
            "padding": null,
            "right": null,
            "top": null,
            "visibility": null,
            "width": null
          }
        },
        "aacf5bbac7f34421a19047a6bef20772": {
          "model_module": "@jupyter-widgets/base",
          "model_module_version": "1.2.0",
          "model_name": "LayoutModel",
          "state": {
            "_model_module": "@jupyter-widgets/base",
            "_model_module_version": "1.2.0",
            "_model_name": "LayoutModel",
            "_view_count": null,
            "_view_module": "@jupyter-widgets/base",
            "_view_module_version": "1.2.0",
            "_view_name": "LayoutView",
            "align_content": null,
            "align_items": null,
            "align_self": null,
            "border": null,
            "bottom": null,
            "display": null,
            "flex": null,
            "flex_flow": null,
            "grid_area": null,
            "grid_auto_columns": null,
            "grid_auto_flow": null,
            "grid_auto_rows": null,
            "grid_column": null,
            "grid_gap": null,
            "grid_row": null,
            "grid_template_areas": null,
            "grid_template_columns": null,
            "grid_template_rows": null,
            "height": null,
            "justify_content": null,
            "justify_items": null,
            "left": null,
            "margin": null,
            "max_height": null,
            "max_width": null,
            "min_height": null,
            "min_width": null,
            "object_fit": null,
            "object_position": null,
            "order": null,
            "overflow": null,
            "overflow_x": null,
            "overflow_y": null,
            "padding": null,
            "right": null,
            "top": null,
            "visibility": null,
            "width": null
          }
        },
        "ab7e77d3ba884dcfb61d2856e067b4d7": {
          "model_module": "@jupyter-widgets/controls",
          "model_module_version": "1.5.0",
          "model_name": "HTMLModel",
          "state": {
            "_dom_classes": [],
            "_model_module": "@jupyter-widgets/controls",
            "_model_module_version": "1.5.0",
            "_model_name": "HTMLModel",
            "_view_count": null,
            "_view_module": "@jupyter-widgets/controls",
            "_view_module_version": "1.5.0",
            "_view_name": "HTMLView",
            "description": "",
            "description_tooltip": null,
            "layout": "IPY_MODEL_fc53eee525ee449d874b5cd214210cac",
            "placeholder": "​",
            "style": "IPY_MODEL_f05ea51dc3b447779de4489b18b9688e",
            "value": "Downloading builder script: 100%"
          }
        },
        "acd6c866c7bc4beb9740188d67faed6d": {
          "model_module": "@jupyter-widgets/controls",
          "model_module_version": "1.5.0",
          "model_name": "DescriptionStyleModel",
          "state": {
            "_model_module": "@jupyter-widgets/controls",
            "_model_module_version": "1.5.0",
            "_model_name": "DescriptionStyleModel",
            "_view_count": null,
            "_view_module": "@jupyter-widgets/base",
            "_view_module_version": "1.2.0",
            "_view_name": "StyleView",
            "description_width": ""
          }
        },
        "b761b2eebe494d868bd7c94bd3cda225": {
          "model_module": "@jupyter-widgets/controls",
          "model_module_version": "1.5.0",
          "model_name": "ProgressStyleModel",
          "state": {
            "_model_module": "@jupyter-widgets/controls",
            "_model_module_version": "1.5.0",
            "_model_name": "ProgressStyleModel",
            "_view_count": null,
            "_view_module": "@jupyter-widgets/base",
            "_view_module_version": "1.2.0",
            "_view_name": "StyleView",
            "bar_color": null,
            "description_width": ""
          }
        },
        "bfe0454586b346639622cc3e33796c64": {
          "model_module": "@jupyter-widgets/controls",
          "model_module_version": "1.5.0",
          "model_name": "ProgressStyleModel",
          "state": {
            "_model_module": "@jupyter-widgets/controls",
            "_model_module_version": "1.5.0",
            "_model_name": "ProgressStyleModel",
            "_view_count": null,
            "_view_module": "@jupyter-widgets/base",
            "_view_module_version": "1.2.0",
            "_view_name": "StyleView",
            "bar_color": null,
            "description_width": ""
          }
        },
        "c428be995cc9480b98a1650687b8130e": {
          "model_module": "@jupyter-widgets/controls",
          "model_module_version": "1.5.0",
          "model_name": "DescriptionStyleModel",
          "state": {
            "_model_module": "@jupyter-widgets/controls",
            "_model_module_version": "1.5.0",
            "_model_name": "DescriptionStyleModel",
            "_view_count": null,
            "_view_module": "@jupyter-widgets/base",
            "_view_module_version": "1.2.0",
            "_view_name": "StyleView",
            "description_width": ""
          }
        },
        "c5e02f675b8242df95b66dcc06cc4b0c": {
          "model_module": "@jupyter-widgets/controls",
          "model_module_version": "1.5.0",
          "model_name": "DescriptionStyleModel",
          "state": {
            "_model_module": "@jupyter-widgets/controls",
            "_model_module_version": "1.5.0",
            "_model_name": "DescriptionStyleModel",
            "_view_count": null,
            "_view_module": "@jupyter-widgets/base",
            "_view_module_version": "1.2.0",
            "_view_name": "StyleView",
            "description_width": ""
          }
        },
        "c61976506bbe4659a5e5df6a448c8dd9": {
          "model_module": "@jupyter-widgets/base",
          "model_module_version": "1.2.0",
          "model_name": "LayoutModel",
          "state": {
            "_model_module": "@jupyter-widgets/base",
            "_model_module_version": "1.2.0",
            "_model_name": "LayoutModel",
            "_view_count": null,
            "_view_module": "@jupyter-widgets/base",
            "_view_module_version": "1.2.0",
            "_view_name": "LayoutView",
            "align_content": null,
            "align_items": null,
            "align_self": null,
            "border": null,
            "bottom": null,
            "display": null,
            "flex": null,
            "flex_flow": null,
            "grid_area": null,
            "grid_auto_columns": null,
            "grid_auto_flow": null,
            "grid_auto_rows": null,
            "grid_column": null,
            "grid_gap": null,
            "grid_row": null,
            "grid_template_areas": null,
            "grid_template_columns": null,
            "grid_template_rows": null,
            "height": null,
            "justify_content": null,
            "justify_items": null,
            "left": null,
            "margin": null,
            "max_height": null,
            "max_width": null,
            "min_height": null,
            "min_width": null,
            "object_fit": null,
            "object_position": null,
            "order": null,
            "overflow": null,
            "overflow_x": null,
            "overflow_y": null,
            "padding": null,
            "right": null,
            "top": null,
            "visibility": null,
            "width": null
          }
        },
        "d023c9287a9c49e7b9bca695b7b892d1": {
          "model_module": "@jupyter-widgets/controls",
          "model_module_version": "1.5.0",
          "model_name": "DescriptionStyleModel",
          "state": {
            "_model_module": "@jupyter-widgets/controls",
            "_model_module_version": "1.5.0",
            "_model_name": "DescriptionStyleModel",
            "_view_count": null,
            "_view_module": "@jupyter-widgets/base",
            "_view_module_version": "1.2.0",
            "_view_name": "StyleView",
            "description_width": ""
          }
        },
        "d318b8f5aa0849d697b12e377bbdd525": {
          "model_module": "@jupyter-widgets/controls",
          "model_module_version": "1.5.0",
          "model_name": "FloatProgressModel",
          "state": {
            "_dom_classes": [],
            "_model_module": "@jupyter-widgets/controls",
            "_model_module_version": "1.5.0",
            "_model_name": "FloatProgressModel",
            "_view_count": null,
            "_view_module": "@jupyter-widgets/controls",
            "_view_module_version": "1.5.0",
            "_view_name": "ProgressView",
            "bar_style": "success",
            "description": "",
            "description_tooltip": null,
            "layout": "IPY_MODEL_5c7a285a46c04ce6b71cf8a1bc358572",
            "max": 8643,
            "min": 0,
            "orientation": "horizontal",
            "style": "IPY_MODEL_f154084a18bd4bf8b403aaed8580bec5",
            "value": 8643
          }
        },
        "dd1d9c586ba9416098b15592e4d99891": {
          "model_module": "@jupyter-widgets/base",
          "model_module_version": "1.2.0",
          "model_name": "LayoutModel",
          "state": {
            "_model_module": "@jupyter-widgets/base",
            "_model_module_version": "1.2.0",
            "_model_name": "LayoutModel",
            "_view_count": null,
            "_view_module": "@jupyter-widgets/base",
            "_view_module_version": "1.2.0",
            "_view_name": "LayoutView",
            "align_content": null,
            "align_items": null,
            "align_self": null,
            "border": null,
            "bottom": null,
            "display": null,
            "flex": null,
            "flex_flow": null,
            "grid_area": null,
            "grid_auto_columns": null,
            "grid_auto_flow": null,
            "grid_auto_rows": null,
            "grid_column": null,
            "grid_gap": null,
            "grid_row": null,
            "grid_template_areas": null,
            "grid_template_columns": null,
            "grid_template_rows": null,
            "height": null,
            "justify_content": null,
            "justify_items": null,
            "left": null,
            "margin": null,
            "max_height": null,
            "max_width": null,
            "min_height": null,
            "min_width": null,
            "object_fit": null,
            "object_position": null,
            "order": null,
            "overflow": null,
            "overflow_x": null,
            "overflow_y": null,
            "padding": null,
            "right": null,
            "top": null,
            "visibility": null,
            "width": null
          }
        },
        "e651a29ea1a446a788f893238470b697": {
          "model_module": "@jupyter-widgets/controls",
          "model_module_version": "1.5.0",
          "model_name": "HTMLModel",
          "state": {
            "_dom_classes": [],
            "_model_module": "@jupyter-widgets/controls",
            "_model_module_version": "1.5.0",
            "_model_name": "HTMLModel",
            "_view_count": null,
            "_view_module": "@jupyter-widgets/controls",
            "_view_module_version": "1.5.0",
            "_view_name": "HTMLView",
            "description": "",
            "description_tooltip": null,
            "layout": "IPY_MODEL_54871866d29f42948e3404d1cd1ca5b6",
            "placeholder": "​",
            "style": "IPY_MODEL_248cface63c84e3e86850bdab42dd2d0",
            "value": "Downloading readme: 100%"
          }
        },
        "ec40aa0e1f5a49a3b0bdb1440b1a6856": {
          "model_module": "@jupyter-widgets/controls",
          "model_module_version": "1.5.0",
          "model_name": "FloatProgressModel",
          "state": {
            "_dom_classes": [],
            "_model_module": "@jupyter-widgets/controls",
            "_model_module_version": "1.5.0",
            "_model_name": "FloatProgressModel",
            "_view_count": null,
            "_view_module": "@jupyter-widgets/controls",
            "_view_module_version": "1.5.0",
            "_view_name": "ProgressView",
            "bar_style": "success",
            "description": "",
            "description_tooltip": null,
            "layout": "IPY_MODEL_f1bc7e998c0c4eccb96a7e0d706275d7",
            "max": 11863,
            "min": 0,
            "orientation": "horizontal",
            "style": "IPY_MODEL_b761b2eebe494d868bd7c94bd3cda225",
            "value": 11863
          }
        },
        "f05ea51dc3b447779de4489b18b9688e": {
          "model_module": "@jupyter-widgets/controls",
          "model_module_version": "1.5.0",
          "model_name": "DescriptionStyleModel",
          "state": {
            "_model_module": "@jupyter-widgets/controls",
            "_model_module_version": "1.5.0",
            "_model_name": "DescriptionStyleModel",
            "_view_count": null,
            "_view_module": "@jupyter-widgets/base",
            "_view_module_version": "1.2.0",
            "_view_name": "StyleView",
            "description_width": ""
          }
        },
        "f154084a18bd4bf8b403aaed8580bec5": {
          "model_module": "@jupyter-widgets/controls",
          "model_module_version": "1.5.0",
          "model_name": "ProgressStyleModel",
          "state": {
            "_model_module": "@jupyter-widgets/controls",
            "_model_module_version": "1.5.0",
            "_model_name": "ProgressStyleModel",
            "_view_count": null,
            "_view_module": "@jupyter-widgets/base",
            "_view_module_version": "1.2.0",
            "_view_name": "StyleView",
            "bar_color": null,
            "description_width": ""
          }
        },
        "f1bc7e998c0c4eccb96a7e0d706275d7": {
          "model_module": "@jupyter-widgets/base",
          "model_module_version": "1.2.0",
          "model_name": "LayoutModel",
          "state": {
            "_model_module": "@jupyter-widgets/base",
            "_model_module_version": "1.2.0",
            "_model_name": "LayoutModel",
            "_view_count": null,
            "_view_module": "@jupyter-widgets/base",
            "_view_module_version": "1.2.0",
            "_view_name": "LayoutView",
            "align_content": null,
            "align_items": null,
            "align_self": null,
            "border": null,
            "bottom": null,
            "display": null,
            "flex": null,
            "flex_flow": null,
            "grid_area": null,
            "grid_auto_columns": null,
            "grid_auto_flow": null,
            "grid_auto_rows": null,
            "grid_column": null,
            "grid_gap": null,
            "grid_row": null,
            "grid_template_areas": null,
            "grid_template_columns": null,
            "grid_template_rows": null,
            "height": null,
            "justify_content": null,
            "justify_items": null,
            "left": null,
            "margin": null,
            "max_height": null,
            "max_width": null,
            "min_height": null,
            "min_width": null,
            "object_fit": null,
            "object_position": null,
            "order": null,
            "overflow": null,
            "overflow_x": null,
            "overflow_y": null,
            "padding": null,
            "right": null,
            "top": null,
            "visibility": null,
            "width": null
          }
        },
        "f5d32c5cc84343d88456a0018ed5578e": {
          "model_module": "@jupyter-widgets/controls",
          "model_module_version": "1.5.0",
          "model_name": "HBoxModel",
          "state": {
            "_dom_classes": [],
            "_model_module": "@jupyter-widgets/controls",
            "_model_module_version": "1.5.0",
            "_model_name": "HBoxModel",
            "_view_count": null,
            "_view_module": "@jupyter-widgets/controls",
            "_view_module_version": "1.5.0",
            "_view_name": "HBoxView",
            "box_style": "",
            "children": [
              "IPY_MODEL_e651a29ea1a446a788f893238470b697",
              "IPY_MODEL_ec40aa0e1f5a49a3b0bdb1440b1a6856",
              "IPY_MODEL_0c409b03de424bce9286a492443f8599"
            ],
            "layout": "IPY_MODEL_00dd52ef3b6c429ab6a838111b81d800"
          }
        },
        "f987dbf2a48d40ddac336560b29c8e6b": {
          "model_module": "@jupyter-widgets/controls",
          "model_module_version": "1.5.0",
          "model_name": "DescriptionStyleModel",
          "state": {
            "_model_module": "@jupyter-widgets/controls",
            "_model_module_version": "1.5.0",
            "_model_name": "DescriptionStyleModel",
            "_view_count": null,
            "_view_module": "@jupyter-widgets/base",
            "_view_module_version": "1.2.0",
            "_view_name": "StyleView",
            "description_width": ""
          }
        },
        "fc53eee525ee449d874b5cd214210cac": {
          "model_module": "@jupyter-widgets/base",
          "model_module_version": "1.2.0",
          "model_name": "LayoutModel",
          "state": {
            "_model_module": "@jupyter-widgets/base",
            "_model_module_version": "1.2.0",
            "_model_name": "LayoutModel",
            "_view_count": null,
            "_view_module": "@jupyter-widgets/base",
            "_view_module_version": "1.2.0",
            "_view_name": "LayoutView",
            "align_content": null,
            "align_items": null,
            "align_self": null,
            "border": null,
            "bottom": null,
            "display": null,
            "flex": null,
            "flex_flow": null,
            "grid_area": null,
            "grid_auto_columns": null,
            "grid_auto_flow": null,
            "grid_auto_rows": null,
            "grid_column": null,
            "grid_gap": null,
            "grid_row": null,
            "grid_template_areas": null,
            "grid_template_columns": null,
            "grid_template_rows": null,
            "height": null,
            "justify_content": null,
            "justify_items": null,
            "left": null,
            "margin": null,
            "max_height": null,
            "max_width": null,
            "min_height": null,
            "min_width": null,
            "object_fit": null,
            "object_position": null,
            "order": null,
            "overflow": null,
            "overflow_x": null,
            "overflow_y": null,
            "padding": null,
            "right": null,
            "top": null,
            "visibility": null,
            "width": null
          }
        }
      }
    }
  },
  "nbformat": 4,
  "nbformat_minor": 0
}
